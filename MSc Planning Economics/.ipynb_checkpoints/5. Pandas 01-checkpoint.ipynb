{
 "cells": [
  {
   "cell_type": "markdown",
   "metadata": {},
   "source": [
    "# <center> Pandas 01 <center> "
   ]
  },
  {
   "attachments": {
    "download%20%283%29.png": {
     "image/png": "[encoded data removed]"
    }
   },
   "cell_type": "markdown",
   "metadata": {},
   "source": [
    "![download%20%283%29.png](attachment:download%20%283%29.png)"
   ]
  },
  {
   "cell_type": "markdown",
   "metadata": {},
   "source": [
    "## Imports"
   ]
  },
  {
   "cell_type": "code",
   "execution_count": null,
   "metadata": {},
   "outputs": [],
   "source": []
  },
  {
   "cell_type": "markdown",
   "metadata": {},
   "source": [
    "### Series"
   ]
  },
  {
   "cell_type": "code",
   "execution_count": null,
   "metadata": {},
   "outputs": [],
   "source": []
  },
  {
   "cell_type": "markdown",
   "metadata": {},
   "source": [
    "### Sum Series"
   ]
  },
  {
   "cell_type": "code",
   "execution_count": null,
   "metadata": {},
   "outputs": [],
   "source": []
  },
  {
   "cell_type": "markdown",
   "metadata": {},
   "source": [
    "### Data frame"
   ]
  },
  {
   "cell_type": "code",
   "execution_count": null,
   "metadata": {},
   "outputs": [],
   "source": []
  },
  {
   "cell_type": "markdown",
   "metadata": {},
   "source": [
    "### Columns, index, shape"
   ]
  },
  {
   "cell_type": "code",
   "execution_count": null,
   "metadata": {},
   "outputs": [],
   "source": []
  },
  {
   "cell_type": "markdown",
   "metadata": {},
   "source": [
    "### Call in table"
   ]
  },
  {
   "cell_type": "code",
   "execution_count": null,
   "metadata": {},
   "outputs": [],
   "source": []
  },
  {
   "cell_type": "markdown",
   "metadata": {},
   "source": [
    "### Create new column"
   ]
  },
  {
   "cell_type": "code",
   "execution_count": null,
   "metadata": {},
   "outputs": [],
   "source": []
  },
  {
   "cell_type": "markdown",
   "metadata": {},
   "source": [
    "### Drop row and column"
   ]
  },
  {
   "cell_type": "code",
   "execution_count": null,
   "metadata": {},
   "outputs": [],
   "source": []
  },
  {
   "cell_type": "markdown",
   "metadata": {},
   "source": [
    "### Rename"
   ]
  },
  {
   "cell_type": "code",
   "execution_count": null,
   "metadata": {},
   "outputs": [],
   "source": []
  },
  {
   "cell_type": "markdown",
   "metadata": {},
   "source": [
    "### Sort Value and index"
   ]
  },
  {
   "cell_type": "code",
   "execution_count": null,
   "metadata": {},
   "outputs": [],
   "source": []
  },
  {
   "cell_type": "markdown",
   "metadata": {},
   "source": [
    "### call in table"
   ]
  },
  {
   "cell_type": "markdown",
   "metadata": {},
   "source": [
    "#### loc"
   ]
  },
  {
   "cell_type": "code",
   "execution_count": null,
   "metadata": {},
   "outputs": [],
   "source": []
  },
  {
   "cell_type": "markdown",
   "metadata": {},
   "source": [
    "#### iloc"
   ]
  },
  {
   "cell_type": "code",
   "execution_count": null,
   "metadata": {},
   "outputs": [],
   "source": []
  },
  {
   "cell_type": "markdown",
   "metadata": {},
   "source": [
    "### Filter"
   ]
  },
  {
   "cell_type": "code",
   "execution_count": null,
   "metadata": {},
   "outputs": [],
   "source": []
  },
  {
   "cell_type": "markdown",
   "metadata": {},
   "source": [
    "## Read data"
   ]
  },
  {
   "cell_type": "markdown",
   "metadata": {},
   "source": [
    "### - Human development index (HDI)\n",
    "<b> Source:  [UNITED NATIONS DEVELOPMENT PROGRAMME (Human Development Reports)](http://hdr.undp.org/en/indicators/137506#)"
   ]
  },
  {
   "cell_type": "code",
   "execution_count": 2,
   "metadata": {},
   "outputs": [],
   "source": [
    "import pandas as pd"
   ]
  },
  {
   "cell_type": "code",
   "execution_count": 3,
   "metadata": {},
   "outputs": [
    {
     "data": {
      "text/html": [
       "<div>\n",
       "<style scoped>\n",
       "    .dataframe tbody tr th:only-of-type {\n",
       "        vertical-align: middle;\n",
       "    }\n",
       "\n",
       "    .dataframe tbody tr th {\n",
       "        vertical-align: top;\n",
       "    }\n",
       "\n",
       "    .dataframe thead th {\n",
       "        text-align: right;\n",
       "    }\n",
       "</style>\n",
       "<table border=\"1\" class=\"dataframe\">\n",
       "  <thead>\n",
       "    <tr style=\"text-align: right;\">\n",
       "      <th></th>\n",
       "      <th>year</th>\n",
       "      <th>Australia</th>\n",
       "      <th>Canada</th>\n",
       "      <th>China</th>\n",
       "      <th>Iran (Islamic Republic of)</th>\n",
       "      <th>Norway</th>\n",
       "      <th>United States</th>\n",
       "      <th>Russian Federation</th>\n",
       "    </tr>\n",
       "  </thead>\n",
       "  <tbody>\n",
       "    <tr>\n",
       "      <th>0</th>\n",
       "      <td>1990</td>\n",
       "      <td>0.871</td>\n",
       "      <td>0.850</td>\n",
       "      <td>0.499</td>\n",
       "      <td>0.565</td>\n",
       "      <td>0.849</td>\n",
       "      <td>0.735</td>\n",
       "      <td>0.865</td>\n",
       "    </tr>\n",
       "    <tr>\n",
       "      <th>1</th>\n",
       "      <td>1991</td>\n",
       "      <td>0.871</td>\n",
       "      <td>0.854</td>\n",
       "      <td>0.507</td>\n",
       "      <td>0.583</td>\n",
       "      <td>0.854</td>\n",
       "      <td>0.731</td>\n",
       "      <td>0.867</td>\n",
       "    </tr>\n",
       "    <tr>\n",
       "      <th>2</th>\n",
       "      <td>1992</td>\n",
       "      <td>0.873</td>\n",
       "      <td>0.857</td>\n",
       "      <td>0.517</td>\n",
       "      <td>0.596</td>\n",
       "      <td>0.861</td>\n",
       "      <td>0.720</td>\n",
       "      <td>0.872</td>\n",
       "    </tr>\n",
       "    <tr>\n",
       "      <th>3</th>\n",
       "      <td>1993</td>\n",
       "      <td>0.876</td>\n",
       "      <td>0.855</td>\n",
       "      <td>0.527</td>\n",
       "      <td>0.607</td>\n",
       "      <td>0.869</td>\n",
       "      <td>0.712</td>\n",
       "      <td>0.877</td>\n",
       "    </tr>\n",
       "    <tr>\n",
       "      <th>4</th>\n",
       "      <td>1994</td>\n",
       "      <td>0.879</td>\n",
       "      <td>0.859</td>\n",
       "      <td>0.534</td>\n",
       "      <td>0.616</td>\n",
       "      <td>0.883</td>\n",
       "      <td>0.703</td>\n",
       "      <td>0.880</td>\n",
       "    </tr>\n",
       "    <tr>\n",
       "      <th>5</th>\n",
       "      <td>1995</td>\n",
       "      <td>0.888</td>\n",
       "      <td>0.862</td>\n",
       "      <td>0.545</td>\n",
       "      <td>0.627</td>\n",
       "      <td>0.881</td>\n",
       "      <td>0.702</td>\n",
       "      <td>0.883</td>\n",
       "    </tr>\n",
       "    <tr>\n",
       "      <th>6</th>\n",
       "      <td>1996</td>\n",
       "      <td>0.890</td>\n",
       "      <td>0.864</td>\n",
       "      <td>0.554</td>\n",
       "      <td>0.634</td>\n",
       "      <td>0.887</td>\n",
       "      <td>0.703</td>\n",
       "      <td>0.884</td>\n",
       "    </tr>\n",
       "    <tr>\n",
       "      <th>7</th>\n",
       "      <td>1997</td>\n",
       "      <td>0.893</td>\n",
       "      <td>0.863</td>\n",
       "      <td>0.563</td>\n",
       "      <td>0.640</td>\n",
       "      <td>0.893</td>\n",
       "      <td>0.705</td>\n",
       "      <td>0.886</td>\n",
       "    </tr>\n",
       "    <tr>\n",
       "      <th>8</th>\n",
       "      <td>1998</td>\n",
       "      <td>0.896</td>\n",
       "      <td>0.861</td>\n",
       "      <td>0.571</td>\n",
       "      <td>0.647</td>\n",
       "      <td>0.904</td>\n",
       "      <td>0.705</td>\n",
       "      <td>0.889</td>\n",
       "    </tr>\n",
       "    <tr>\n",
       "      <th>9</th>\n",
       "      <td>1999</td>\n",
       "      <td>0.900</td>\n",
       "      <td>0.864</td>\n",
       "      <td>0.579</td>\n",
       "      <td>0.652</td>\n",
       "      <td>0.909</td>\n",
       "      <td>0.711</td>\n",
       "      <td>0.890</td>\n",
       "    </tr>\n",
       "    <tr>\n",
       "      <th>10</th>\n",
       "      <td>2000</td>\n",
       "      <td>0.903</td>\n",
       "      <td>0.867</td>\n",
       "      <td>0.588</td>\n",
       "      <td>0.658</td>\n",
       "      <td>0.915</td>\n",
       "      <td>0.722</td>\n",
       "      <td>0.886</td>\n",
       "    </tr>\n",
       "    <tr>\n",
       "      <th>11</th>\n",
       "      <td>2001</td>\n",
       "      <td>0.905</td>\n",
       "      <td>0.871</td>\n",
       "      <td>0.596</td>\n",
       "      <td>0.665</td>\n",
       "      <td>0.914</td>\n",
       "      <td>0.728</td>\n",
       "      <td>0.889</td>\n",
       "    </tr>\n",
       "    <tr>\n",
       "      <th>12</th>\n",
       "      <td>2002</td>\n",
       "      <td>0.907</td>\n",
       "      <td>0.877</td>\n",
       "      <td>0.606</td>\n",
       "      <td>0.670</td>\n",
       "      <td>0.917</td>\n",
       "      <td>0.734</td>\n",
       "      <td>0.891</td>\n",
       "    </tr>\n",
       "    <tr>\n",
       "      <th>13</th>\n",
       "      <td>2003</td>\n",
       "      <td>0.909</td>\n",
       "      <td>0.882</td>\n",
       "      <td>0.618</td>\n",
       "      <td>0.677</td>\n",
       "      <td>0.923</td>\n",
       "      <td>0.742</td>\n",
       "      <td>0.894</td>\n",
       "    </tr>\n",
       "    <tr>\n",
       "      <th>14</th>\n",
       "      <td>2004</td>\n",
       "      <td>0.911</td>\n",
       "      <td>0.888</td>\n",
       "      <td>0.628</td>\n",
       "      <td>0.678</td>\n",
       "      <td>0.932</td>\n",
       "      <td>0.748</td>\n",
       "      <td>0.897</td>\n",
       "    </tr>\n",
       "    <tr>\n",
       "      <th>15</th>\n",
       "      <td>2005</td>\n",
       "      <td>0.906</td>\n",
       "      <td>0.894</td>\n",
       "      <td>0.640</td>\n",
       "      <td>0.683</td>\n",
       "      <td>0.931</td>\n",
       "      <td>0.753</td>\n",
       "      <td>0.900</td>\n",
       "    </tr>\n",
       "    <tr>\n",
       "      <th>16</th>\n",
       "      <td>2006</td>\n",
       "      <td>0.909</td>\n",
       "      <td>0.898</td>\n",
       "      <td>0.653</td>\n",
       "      <td>0.719</td>\n",
       "      <td>0.934</td>\n",
       "      <td>0.760</td>\n",
       "      <td>0.903</td>\n",
       "    </tr>\n",
       "    <tr>\n",
       "      <th>17</th>\n",
       "      <td>2007</td>\n",
       "      <td>0.912</td>\n",
       "      <td>0.896</td>\n",
       "      <td>0.667</td>\n",
       "      <td>0.723</td>\n",
       "      <td>0.936</td>\n",
       "      <td>0.769</td>\n",
       "      <td>0.906</td>\n",
       "    </tr>\n",
       "    <tr>\n",
       "      <th>18</th>\n",
       "      <td>2008</td>\n",
       "      <td>0.926</td>\n",
       "      <td>0.898</td>\n",
       "      <td>0.678</td>\n",
       "      <td>0.728</td>\n",
       "      <td>0.937</td>\n",
       "      <td>0.775</td>\n",
       "      <td>0.911</td>\n",
       "    </tr>\n",
       "    <tr>\n",
       "      <th>19</th>\n",
       "      <td>2009</td>\n",
       "      <td>0.928</td>\n",
       "      <td>0.898</td>\n",
       "      <td>0.687</td>\n",
       "      <td>0.734</td>\n",
       "      <td>0.937</td>\n",
       "      <td>0.773</td>\n",
       "      <td>0.912</td>\n",
       "    </tr>\n",
       "    <tr>\n",
       "      <th>20</th>\n",
       "      <td>2010</td>\n",
       "      <td>0.930</td>\n",
       "      <td>0.901</td>\n",
       "      <td>0.699</td>\n",
       "      <td>0.742</td>\n",
       "      <td>0.940</td>\n",
       "      <td>0.781</td>\n",
       "      <td>0.916</td>\n",
       "    </tr>\n",
       "    <tr>\n",
       "      <th>21</th>\n",
       "      <td>2011</td>\n",
       "      <td>0.932</td>\n",
       "      <td>0.903</td>\n",
       "      <td>0.707</td>\n",
       "      <td>0.753</td>\n",
       "      <td>0.942</td>\n",
       "      <td>0.790</td>\n",
       "      <td>0.919</td>\n",
       "    </tr>\n",
       "    <tr>\n",
       "      <th>22</th>\n",
       "      <td>2012</td>\n",
       "      <td>0.937</td>\n",
       "      <td>0.906</td>\n",
       "      <td>0.716</td>\n",
       "      <td>0.768</td>\n",
       "      <td>0.941</td>\n",
       "      <td>0.798</td>\n",
       "      <td>0.920</td>\n",
       "    </tr>\n",
       "    <tr>\n",
       "      <th>23</th>\n",
       "      <td>2013</td>\n",
       "      <td>0.931</td>\n",
       "      <td>0.913</td>\n",
       "      <td>0.724</td>\n",
       "      <td>0.771</td>\n",
       "      <td>0.944</td>\n",
       "      <td>0.802</td>\n",
       "      <td>0.918</td>\n",
       "    </tr>\n",
       "    <tr>\n",
       "      <th>24</th>\n",
       "      <td>2014</td>\n",
       "      <td>0.933</td>\n",
       "      <td>0.918</td>\n",
       "      <td>0.731</td>\n",
       "      <td>0.774</td>\n",
       "      <td>0.944</td>\n",
       "      <td>0.807</td>\n",
       "      <td>0.920</td>\n",
       "    </tr>\n",
       "    <tr>\n",
       "      <th>25</th>\n",
       "      <td>2015</td>\n",
       "      <td>0.938</td>\n",
       "      <td>0.921</td>\n",
       "      <td>0.739</td>\n",
       "      <td>0.774</td>\n",
       "      <td>0.947</td>\n",
       "      <td>0.809</td>\n",
       "      <td>0.921</td>\n",
       "    </tr>\n",
       "    <tr>\n",
       "      <th>26</th>\n",
       "      <td>2016</td>\n",
       "      <td>0.939</td>\n",
       "      <td>0.923</td>\n",
       "      <td>0.746</td>\n",
       "      <td>0.784</td>\n",
       "      <td>0.950</td>\n",
       "      <td>0.815</td>\n",
       "      <td>0.922</td>\n",
       "    </tr>\n",
       "    <tr>\n",
       "      <th>27</th>\n",
       "      <td>2017</td>\n",
       "      <td>0.941</td>\n",
       "      <td>0.926</td>\n",
       "      <td>0.750</td>\n",
       "      <td>0.787</td>\n",
       "      <td>0.954</td>\n",
       "      <td>0.820</td>\n",
       "      <td>0.924</td>\n",
       "    </tr>\n",
       "    <tr>\n",
       "      <th>28</th>\n",
       "      <td>2018</td>\n",
       "      <td>0.943</td>\n",
       "      <td>0.928</td>\n",
       "      <td>0.755</td>\n",
       "      <td>0.785</td>\n",
       "      <td>0.956</td>\n",
       "      <td>0.823</td>\n",
       "      <td>0.925</td>\n",
       "    </tr>\n",
       "    <tr>\n",
       "      <th>29</th>\n",
       "      <td>2019</td>\n",
       "      <td>0.944</td>\n",
       "      <td>0.929</td>\n",
       "      <td>0.761</td>\n",
       "      <td>0.783</td>\n",
       "      <td>0.957</td>\n",
       "      <td>0.824</td>\n",
       "      <td>0.926</td>\n",
       "    </tr>\n",
       "  </tbody>\n",
       "</table>\n",
       "</div>"
      ],
      "text/plain": [
       "    year  Australia  Canada  China  Iran (Islamic Republic of)  Norway  \\\n",
       "0   1990      0.871   0.850  0.499                       0.565   0.849   \n",
       "1   1991      0.871   0.854  0.507                       0.583   0.854   \n",
       "2   1992      0.873   0.857  0.517                       0.596   0.861   \n",
       "3   1993      0.876   0.855  0.527                       0.607   0.869   \n",
       "4   1994      0.879   0.859  0.534                       0.616   0.883   \n",
       "5   1995      0.888   0.862  0.545                       0.627   0.881   \n",
       "6   1996      0.890   0.864  0.554                       0.634   0.887   \n",
       "7   1997      0.893   0.863  0.563                       0.640   0.893   \n",
       "8   1998      0.896   0.861  0.571                       0.647   0.904   \n",
       "9   1999      0.900   0.864  0.579                       0.652   0.909   \n",
       "10  2000      0.903   0.867  0.588                       0.658   0.915   \n",
       "11  2001      0.905   0.871  0.596                       0.665   0.914   \n",
       "12  2002      0.907   0.877  0.606                       0.670   0.917   \n",
       "13  2003      0.909   0.882  0.618                       0.677   0.923   \n",
       "14  2004      0.911   0.888  0.628                       0.678   0.932   \n",
       "15  2005      0.906   0.894  0.640                       0.683   0.931   \n",
       "16  2006      0.909   0.898  0.653                       0.719   0.934   \n",
       "17  2007      0.912   0.896  0.667                       0.723   0.936   \n",
       "18  2008      0.926   0.898  0.678                       0.728   0.937   \n",
       "19  2009      0.928   0.898  0.687                       0.734   0.937   \n",
       "20  2010      0.930   0.901  0.699                       0.742   0.940   \n",
       "21  2011      0.932   0.903  0.707                       0.753   0.942   \n",
       "22  2012      0.937   0.906  0.716                       0.768   0.941   \n",
       "23  2013      0.931   0.913  0.724                       0.771   0.944   \n",
       "24  2014      0.933   0.918  0.731                       0.774   0.944   \n",
       "25  2015      0.938   0.921  0.739                       0.774   0.947   \n",
       "26  2016      0.939   0.923  0.746                       0.784   0.950   \n",
       "27  2017      0.941   0.926  0.750                       0.787   0.954   \n",
       "28  2018      0.943   0.928  0.755                       0.785   0.956   \n",
       "29  2019      0.944   0.929  0.761                       0.783   0.957   \n",
       "\n",
       "    United States  Russian Federation  \n",
       "0           0.735               0.865  \n",
       "1           0.731               0.867  \n",
       "2           0.720               0.872  \n",
       "3           0.712               0.877  \n",
       "4           0.703               0.880  \n",
       "5           0.702               0.883  \n",
       "6           0.703               0.884  \n",
       "7           0.705               0.886  \n",
       "8           0.705               0.889  \n",
       "9           0.711               0.890  \n",
       "10          0.722               0.886  \n",
       "11          0.728               0.889  \n",
       "12          0.734               0.891  \n",
       "13          0.742               0.894  \n",
       "14          0.748               0.897  \n",
       "15          0.753               0.900  \n",
       "16          0.760               0.903  \n",
       "17          0.769               0.906  \n",
       "18          0.775               0.911  \n",
       "19          0.773               0.912  \n",
       "20          0.781               0.916  \n",
       "21          0.790               0.919  \n",
       "22          0.798               0.920  \n",
       "23          0.802               0.918  \n",
       "24          0.807               0.920  \n",
       "25          0.809               0.921  \n",
       "26          0.815               0.922  \n",
       "27          0.820               0.924  \n",
       "28          0.823               0.925  \n",
       "29          0.824               0.926  "
      ]
     },
     "execution_count": 3,
     "metadata": {},
     "output_type": "execute_result"
    }
   ],
   "source": [
    "df = pd.read_excel('Human development index (HDI).xlsx', sheet_name= 'HDI_1')\n",
    "df"
   ]
  },
  {
   "cell_type": "markdown",
   "metadata": {},
   "source": [
    "## Directory"
   ]
  },
  {
   "cell_type": "code",
   "execution_count": null,
   "metadata": {},
   "outputs": [],
   "source": []
  },
  {
   "cell_type": "markdown",
   "metadata": {},
   "source": [
    "### - Current Directory"
   ]
  },
  {
   "cell_type": "code",
   "execution_count": null,
   "metadata": {},
   "outputs": [],
   "source": []
  },
  {
   "cell_type": "markdown",
   "metadata": {},
   "source": [
    "### - Change Directory"
   ]
  },
  {
   "cell_type": "code",
   "execution_count": null,
   "metadata": {},
   "outputs": [],
   "source": []
  },
  {
   "cell_type": "markdown",
   "metadata": {},
   "source": [
    "### - List of Files in Directory"
   ]
  },
  {
   "cell_type": "code",
   "execution_count": null,
   "metadata": {},
   "outputs": [],
   "source": []
  }
 ],
 "metadata": {
  "kernelspec": {
   "display_name": "Python 3",
   "language": "python",
   "name": "python3"
  },
  "language_info": {
   "codemirror_mode": {
    "name": "ipython",
    "version": 3
   },
   "file_extension": ".py",
   "mimetype": "text/x-python",
   "name": "python",
   "nbconvert_exporter": "python",
   "pygments_lexer": "ipython3",
   "version": "3.8.5"
  }
 },
 "nbformat": 4,
 "nbformat_minor": 2
}
