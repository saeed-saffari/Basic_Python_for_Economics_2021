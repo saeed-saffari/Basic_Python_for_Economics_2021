{
 "cells": [
  {
   "cell_type": "markdown",
   "metadata": {},
   "source": [
    "# <center> Linear and Polynomial Regression"
   ]
  },
  {
   "cell_type": "markdown",
   "metadata": {},
   "source": [
    "### Imports"
   ]
  },
  {
   "cell_type": "code",
   "execution_count": 1,
   "metadata": {},
   "outputs": [],
   "source": [
    "import numpy as np\n",
    "import matplotlib.pyplot as plt\n",
    "from scipy.stats import linregress\n",
    "#import seaborn as sb"
   ]
  },
  {
   "cell_type": "markdown",
   "metadata": {},
   "source": [
    "<b> Artificial data:"
   ]
  },
  {
   "cell_type": "code",
   "execution_count": 2,
   "metadata": {},
   "outputs": [
    {
     "name": "stdout",
     "output_type": "stream",
     "text": [
      "[0 1 2 3 4 5]\n",
      "[ 0.   0.8  0.9  0.1 -0.8 -1. ]\n"
     ]
    }
   ],
   "source": [
    "x = np.array([0, 1, 2, 3, 4, 5])\n",
    "y = np.array([0, 0.8, 0.9, 0.1, -0.8, -1])\n",
    "print(x)\n",
    "print(y)"
   ]
  },
  {
   "cell_type": "code",
   "execution_count": 3,
   "metadata": {},
   "outputs": [
    {
     "data": {
      "image/png": "[encoded data removed]",
      "text/plain": [
       "<Figure size 576x360 with 1 Axes>"
      ]
     },
     "metadata": {
      "needs_background": "light"
     },
     "output_type": "display_data"
    }
   ],
   "source": [
    "plt.figure(figsize=(8, 5))\n",
    "plt.plot(x,y,'go',lw=20)\n",
    "plt.grid()\n",
    "plt.show()"
   ]
  },
  {
   "cell_type": "markdown",
   "metadata": {},
   "source": [
    "### Polyfit with Degree 1"
   ]
  },
  {
   "cell_type": "code",
   "execution_count": 4,
   "metadata": {},
   "outputs": [
    {
     "name": "stdout",
     "output_type": "stream",
     "text": [
      "[-0.30285714  0.75714286]\n"
     ]
    }
   ],
   "source": [
    "p1 = np.polyfit(x,y,1)\n",
    "print(p1)"
   ]
  },
  {
   "cell_type": "code",
   "execution_count": 7,
   "metadata": {},
   "outputs": [
    {
     "data": {
      "text/plain": [
       "-0.3028571428571429"
      ]
     },
     "execution_count": 7,
     "metadata": {},
     "output_type": "execute_result"
    }
   ],
   "source": [
    "p1[0]"
   ]
  },
  {
   "cell_type": "markdown",
   "metadata": {},
   "source": [
    "$$ R^2 = 1 - \\frac{RSS}{TSS} $$\n",
    "$$ TSS = \\sum_{i=1}^{n} (y_i - \\bar{y})^2$$\n",
    "$$ RSS = \\sum_{i=1}^{n} (y_i - f(x_i))^2$$"
   ]
  },
  {
   "cell_type": "code",
   "execution_count": 10,
   "metadata": {},
   "outputs": [
    {
     "name": "stdout",
     "output_type": "stream",
     "text": [
      "Estimate y:  [ 0.75714286  0.45428571  0.15142857 -0.15142857 -0.45428571 -0.75714286]\n",
      "Real y:  [ 0.   0.8  0.9  0.1 -0.8 -1. ]\n"
     ]
    }
   ],
   "source": [
    "yfit = p1[0] * x + p1[1]\n",
    "\n",
    "print(\"Estimate y: \",yfit)\n",
    "print(\"Real y: \", y)"
   ]
  },
  {
   "cell_type": "code",
   "execution_count": 11,
   "metadata": {},
   "outputs": [
    {
     "name": "stdout",
     "output_type": "stream",
     "text": [
      "\n",
      "R^2: 0.518\n"
     ]
    }
   ],
   "source": [
    "yresid  = y - yfit\n",
    "SSresid = np.sum(yresid**2)\n",
    "SStotal = len(y) * np.var(y)\n",
    "\n",
    "rsq     = 1 - SSresid/SStotal\n",
    "\n",
    "#SStotal = 0\n",
    "#for i in y:\n",
    "#    a = i - y.mean()\n",
    "#    ap = a**2\n",
    "#    SStotal += ap\n",
    "\n",
    "print(\"\\nR^2: {:5.3f}\".format(rsq))"
   ]
  },
  {
   "cell_type": "code",
   "execution_count": 12,
   "metadata": {},
   "outputs": [
    {
     "data": {
      "image/png": "[encoded data removed]",
      "text/plain": [
       "<Figure size 576x360 with 1 Axes>"
      ]
     },
     "metadata": {
      "needs_background": "light"
     },
     "output_type": "display_data"
    }
   ],
   "source": [
    "plt.figure(figsize=(8, 5))\n",
    "plt.plot(x,y,'go',lw=2, label = ' Actucal y')\n",
    "\n",
    "plt.plot(x,np.polyval(p1,x),'r-' , lw=3, label= \"Deg: 1, $R^2$ = \"+str(round(rsq,3)))\n",
    "\n",
    "plt.title(\"Degree: 1\")\n",
    "plt.ylim(top=1.5)\n",
    "plt.legend()\n",
    "plt.grid()"
   ]
  },
  {
   "cell_type": "markdown",
   "metadata": {},
   "source": [
    "### Polyfit with Degree 2"
   ]
  },
  {
   "cell_type": "code",
   "execution_count": 13,
   "metadata": {},
   "outputs": [
    {
     "name": "stdout",
     "output_type": "stream",
     "text": [
      "[-0.16071429  0.50071429  0.22142857]\n"
     ]
    }
   ],
   "source": [
    "p2 = np.polyfit(x,y,2)\n",
    "print(p2)"
   ]
  },
  {
   "cell_type": "code",
   "execution_count": 14,
   "metadata": {},
   "outputs": [
    {
     "name": "stdout",
     "output_type": "stream",
     "text": [
      "Estimate y:  [ 0.22142857  0.56142857  0.58        0.27714286 -0.34714286 -1.29285714]\n",
      "Real y:  [ 0.   0.8  0.9  0.1 -0.8 -1. ]\n"
     ]
    }
   ],
   "source": [
    "yfit2 = p2[0] * x**2 + p2[1] * x + p2[2]\n",
    "\n",
    "print(\"Estimate y: \",yfit2)\n",
    "print(\"Real y: \", y)"
   ]
  },
  {
   "cell_type": "code",
   "execution_count": 15,
   "metadata": {},
   "outputs": [
    {
     "name": "stdout",
     "output_type": "stream",
     "text": [
      "\n",
      "R^2: 0.829\n"
     ]
    }
   ],
   "source": [
    "yresid2  = y - yfit2\n",
    "SSresid2 = np.sum(yresid2**2)\n",
    "SStotal2 = len(y) * np.var(y)\n",
    "rsq2     = 1 - SSresid2/SStotal2\n",
    "\n",
    "print(\"\\nR^2: {:5.3f}\".format(rsq2))"
   ]
  },
  {
   "cell_type": "code",
   "execution_count": 16,
   "metadata": {},
   "outputs": [
    {
     "data": {
      "image/png": "[encoded data removed]",
      "text/plain": [
       "<Figure size 576x360 with 1 Axes>"
      ]
     },
     "metadata": {
      "needs_background": "light"
     },
     "output_type": "display_data"
    }
   ],
   "source": [
    "plt.figure(figsize=(8, 5))\n",
    "plt.plot(x,y,'go',lw=2, label = ' Actucal y')\n",
    "plt.plot(x,np.polyval(p1,x),'r-' , lw=3, label= \"Deg: 1, $R^2$ = \"+str(round(rsq,3)))\n",
    "plt.plot(x,np.polyval(p2,x),'b--', lw=3, label= \"Deg: 2, $R^2$ = \"+str(round(rsq2,3)))\n",
    "plt.title(\"Degree: 1&2\")\n",
    "plt.ylim(top=1.5)\n",
    "plt.legend()\n",
    "plt.grid()"
   ]
  },
  {
   "cell_type": "markdown",
   "metadata": {},
   "source": [
    "### Polyfit with Degree 3"
   ]
  },
  {
   "cell_type": "code",
   "execution_count": 17,
   "metadata": {},
   "outputs": [
    {
     "name": "stdout",
     "output_type": "stream",
     "text": [
      "[ 0.08703704 -0.81349206  1.69312169 -0.03968254]\n"
     ]
    }
   ],
   "source": [
    "p3 = np.polyfit(x,y,3)\n",
    "print(p3)"
   ]
  },
  {
   "cell_type": "code",
   "execution_count": 18,
   "metadata": {},
   "outputs": [
    {
     "name": "stdout",
     "output_type": "stream",
     "text": [
      "Estimate y:  [-0.03968254  0.92698413  0.78888889  0.06825397 -0.71269841 -1.03174603]\n",
      "Real y:  [ 0.   0.8  0.9  0.1 -0.8 -1. ]\n"
     ]
    }
   ],
   "source": [
    "yfit3 = p3[0] * x**3 + p3[1] * x**2 + p3[2] * x + p3[3]\n",
    "\n",
    "print(\"Estimate y: \",yfit3)\n",
    "print(\"Real y: \", y)"
   ]
  },
  {
   "cell_type": "code",
   "execution_count": 19,
   "metadata": {},
   "outputs": [
    {
     "name": "stdout",
     "output_type": "stream",
     "text": [
      "\n",
      "R^2: 0.987\n"
     ]
    }
   ],
   "source": [
    "yresid3  = y - yfit3\n",
    "SSresid3 = np.sum(yresid3**2)\n",
    "SStotal3 = len(y) * np.var(y)\n",
    "rsq3     = 1 - SSresid3/SStotal3\n",
    "\n",
    "print(\"\\nR^2: {:5.3f}\".format(rsq3))"
   ]
  },
  {
   "cell_type": "code",
   "execution_count": 20,
   "metadata": {},
   "outputs": [
    {
     "data": {
      "image/png": "[encoded data removed]",
      "text/plain": [
       "<Figure size 576x360 with 1 Axes>"
      ]
     },
     "metadata": {
      "needs_background": "light"
     },
     "output_type": "display_data"
    }
   ],
   "source": [
    "plt.figure(figsize=(8, 5))\n",
    "plt.plot(x,y,'go',lw=2, label = ' Actucal y')\n",
    "plt.plot(x,np.polyval(p1,x),'r-' , lw=3, label= \"Deg: 1, $R^2$ = \"+str(round(rsq,3)))\n",
    "plt.plot(x,np.polyval(p2,x),'b--', lw=3, label= \"Deg: 2, $R^2$ = \"+str(round(rsq2,3)))\n",
    "plt.plot(x,np.polyval(p3,x),'m:' , lw=3, label= \"Deg: 3, $R^2$ = \"+str(round(rsq3,3)))\n",
    "plt.title(\"Degree: 1&2&3\")\n",
    "plt.ylim(top=1.5)\n",
    "plt.legend()\n",
    "plt.grid()"
   ]
  },
  {
   "cell_type": "code",
   "execution_count": 22,
   "metadata": {},
   "outputs": [
    {
     "data": {
      "image/png": "[encoded data removed]",
      "text/plain": [
       "<Figure size 576x360 with 1 Axes>"
      ]
     },
     "metadata": {
      "needs_background": "light"
     },
     "output_type": "display_data"
    }
   ],
   "source": [
    "xp = np.linspace(x.min()-1,x.max()+1,100)\n",
    "plt.figure(figsize=(8, 5))\n",
    "plt.plot(x,y,'go',lw=2, label = ' Actucal y')\n",
    "plt.plot(xp,np.polyval(p1,xp),'r-' , lw=3, label= \"Deg: 1, $R^2$ = \"+str(round(rsq,3)))\n",
    "plt.plot(xp,np.polyval(p2,xp),'b--', lw=3, label= \"Deg: 2, $R^2$ = \"+str(round(rsq2,3)))\n",
    "plt.plot(xp,np.polyval(p3,xp),'m:' , lw=3, label= \"Deg: 3, $R^2$ = \"+str(round(rsq3,3)))\n",
    "plt.title(\"Degree: 1&2&3\")\n",
    "plt.ylim(top=2.2)\n",
    "plt.legend()\n",
    "plt.grid()\n",
    "plt.show()"
   ]
  },
  {
   "cell_type": "code",
   "execution_count": 23,
   "metadata": {},
   "outputs": [
    {
     "name": "stdout",
     "output_type": "stream",
     "text": [
      "Estimate y:  [ 0.75714286  0.45428571  0.15142857 -0.15142857 -0.45428571 -0.75714286]\n",
      "Real y:  [ 0.   0.8  0.9  0.1 -0.8 -1. ]\n",
      "\n",
      "R^2: 0.518\n"
     ]
    }
   ],
   "source": [
    "yfit = p1[0] * x + p1[1]\n",
    "\n",
    "print(\"Estimate y: \",yfit)\n",
    "print(\"Real y: \", y)\n",
    "\n",
    "yresid  = y - yfit\n",
    "SSresid = np.sum(yresid**2)\n",
    "SStotal = len(y) * np.var(y)\n",
    "rsq     = 1 - SSresid/SStotal\n",
    "\n",
    "print(\"\\nR^2: {:5.3f}\".format(rsq))"
   ]
  },
  {
   "cell_type": "code",
   "execution_count": 24,
   "metadata": {},
   "outputs": [
    {
     "data": {
      "text/plain": [
       "LinregressResult(slope=-0.3028571428571429, intercept=0.7571428571428572, rvalue=-0.7195748873002584, pvalue=0.10693129655435198, stderr=0.14613384974336482, intercept_stderr=0.44244220192112815)"
      ]
     },
     "execution_count": 24,
     "metadata": {},
     "output_type": "execute_result"
    }
   ],
   "source": [
    "linregress(x,y)"
   ]
  },
  {
   "cell_type": "code",
   "execution_count": 25,
   "metadata": {},
   "outputs": [],
   "source": [
    "slope, intercept, r_value, p_value, std_err = linregress(x,y)"
   ]
  },
  {
   "cell_type": "code",
   "execution_count": 26,
   "metadata": {},
   "outputs": [
    {
     "name": "stdout",
     "output_type": "stream",
     "text": [
      "R^2: 0.518\n",
      "P value: 0.107\n"
     ]
    }
   ],
   "source": [
    "print(\"R^2: {:5.3f}\".format(r_value**2))\n",
    "print(\"P value: {:5.3f}\".format(p_value))"
   ]
  },
  {
   "cell_type": "code",
   "execution_count": null,
   "metadata": {},
   "outputs": [],
   "source": []
  },
  {
   "cell_type": "markdown",
   "metadata": {},
   "source": [
    "# <center> Ordinary Least Squares"
   ]
  },
  {
   "cell_type": "markdown",
   "metadata": {},
   "source": [
    "### Imports"
   ]
  },
  {
   "cell_type": "code",
   "execution_count": 27,
   "metadata": {},
   "outputs": [],
   "source": [
    "import numpy as np\n",
    "import pandas as pd\n",
    "import matplotlib.pyplot as plt\n",
    "\n",
    "# pip install statsmodels\n",
    "# conda install statsmodels\n",
    "import statsmodels.api as sm\n",
    "from statsmodels.sandbox.regression.predstd import wls_prediction_std"
   ]
  },
  {
   "cell_type": "markdown",
   "metadata": {},
   "source": [
    "## OLS estimation"
   ]
  },
  {
   "cell_type": "markdown",
   "metadata": {},
   "source": [
    "<b> Artificial data:"
   ]
  },
  {
   "cell_type": "code",
   "execution_count": 32,
   "metadata": {},
   "outputs": [],
   "source": [
    "nsample = 100\n",
    "x = np.linspace(0, 10, 100)\n",
    "X = np.column_stack((x, x**2))\n",
    "beta = np.array([1, 0.1, 10])\n",
    "e = np.random.normal(size=nsample)"
   ]
  },
  {
   "cell_type": "markdown",
   "metadata": {},
   "source": [
    "<b> Our model needs an intercept so we add a column of 1s:"
   ]
  },
  {
   "cell_type": "code",
   "execution_count": 33,
   "metadata": {},
   "outputs": [],
   "source": [
    "X = sm.add_constant(X)\n",
    "y = np.dot(X, beta) + e"
   ]
  },
  {
   "cell_type": "markdown",
   "metadata": {},
   "source": [
    "<b> Fit and summary:"
   ]
  },
  {
   "cell_type": "code",
   "execution_count": 35,
   "metadata": {},
   "outputs": [
    {
     "name": "stdout",
     "output_type": "stream",
     "text": [
      "                            OLS Regression Results                            \n",
      "==============================================================================\n",
      "Dep. Variable:                      y   R-squared:                       1.000\n",
      "Model:                            OLS   Adj. R-squared:                  1.000\n",
      "Method:                 Least Squares   F-statistic:                 4.941e+06\n",
      "Date:                Thu, 10 Jun 2021   Prob (F-statistic):          1.29e-243\n",
      "Time:                        15:30:00   Log-Likelihood:                -136.30\n",
      "No. Observations:                 100   AIC:                             278.6\n",
      "Df Residuals:                      97   BIC:                             286.4\n",
      "Df Model:                           2                                         \n",
      "Covariance Type:            nonrobust                                         \n",
      "==============================================================================\n",
      "                 coef    std err          t      P>|t|      [0.025      0.975]\n",
      "------------------------------------------------------------------------------\n",
      "const          0.6568      0.282      2.326      0.022       0.096       1.217\n",
      "x1             0.2225      0.131      1.705      0.091      -0.036       0.482\n",
      "x2             9.9950      0.013    791.506      0.000       9.970      10.020\n",
      "==============================================================================\n",
      "Omnibus:                        0.049   Durbin-Watson:                   2.136\n",
      "Prob(Omnibus):                  0.976   Jarque-Bera (JB):                0.190\n",
      "Skew:                           0.033   Prob(JB):                        0.909\n",
      "Kurtosis:                       2.797   Cond. No.                         144.\n",
      "==============================================================================\n",
      "\n",
      "Notes:\n",
      "[1] Standard Errors assume that the covariance matrix of the errors is correctly specified.\n"
     ]
    }
   ],
   "source": [
    "model = sm.OLS(y, X)\n",
    "results = model.fit()\n",
    "\n",
    "prediction = results.predict(X)\n",
    "print(results.summary())"
   ]
  },
  {
   "cell_type": "code",
   "execution_count": 36,
   "metadata": {},
   "outputs": [
    {
     "name": "stdout",
     "output_type": "stream",
     "text": [
      "Parameters:  [0.65684405 0.22254983 9.99502923]\n",
      "R2:  0.9999901837325796\n"
     ]
    }
   ],
   "source": [
    "# dir(results)\n",
    "\n",
    "print('Parameters: ', results.params)\n",
    "print('R2: ', results.rsquared)"
   ]
  },
  {
   "cell_type": "markdown",
   "metadata": {},
   "source": [
    "### The parts of the table that are important"
   ]
  },
  {
   "cell_type": "markdown",
   "metadata": {},
   "source": [
    "<b> Left side"
   ]
  },
  {
   "cell_type": "markdown",
   "metadata": {},
   "source": [
    "|Element\t        |Description|\n",
    "| :---:             | :---: |\n",
    "|Dep. Variable\t    |Which variable is the response in the model|\n",
    "|Model\t            |What model you are using in the fit|\n",
    "|Method\t            |How the parameters of the model were calculated|\n",
    "|No. Observations\t|The number of observations (examples)|\n",
    "|DF Residuals\t    |Degrees of freedom of the residuals. Number of observations – number of parameters|\n",
    "|DF Model\t        |Number of parameters in the model (not including the constant term if present)|\n",
    "\n"
   ]
  },
  {
   "cell_type": "markdown",
   "metadata": {},
   "source": [
    "<b> Right side"
   ]
  },
  {
   "cell_type": "markdown",
   "metadata": {},
   "source": [
    "|Element\t        |Description|\n",
    "| :--: | :--: |\n",
    "|R-squared\t        |The [coefficient of determination](https://en.wikipedia.org/wiki/Coefficient_of_determination). A statistical measure of how well the regression line approximates the real data points|\n",
    "|Adj. R-squared\t    |The above value adjusted based on the number of observations and the degrees-of-freedom of the residuals|\n",
    "|F-statistic\t    |A measure how significant the fit is. The mean squared error of the model divided by the mean squared error of the residuals|\n",
    "|Prob (F-statistic)\t|The probability that you would get the above statistic, given the null hypothesis that they are unrelated|\n",
    "|Log-likelihood\t    |The log of the likelihood function.|\n",
    "|AIC\t            |The [Akaike Information Criterion](https://en.wikipedia.org/wiki/Akaike_information_criterion). Adjusts the log-likelihood based on the number of observations and the complexity of the model.|\n",
    "|BIC\t            |The [Bayesian Information Criterion](https://en.wikipedia.org/wiki/Bayesian_information_criterion). Similar to the AIC, but has a higher penalty for models with more parameters.|"
   ]
  },
  {
   "cell_type": "markdown",
   "metadata": {},
   "source": [
    "<b> Second table"
   ]
  },
  {
   "cell_type": "markdown",
   "metadata": {},
   "source": [
    "|Element\t        |Description|\n",
    "| :--: | :--: |\n",
    "|coef\t     |The estimated value of the coefficient|\n",
    "|std err\t |The basic standard error of the estimate of the coefficient. More sophisticated errors are also available.|\n",
    "|t\t         |The t-statistic value. This is a measure of how statistically significant the coefficient is.|\n",
    "|P > \\|t\\| \t |P-value that the null-hypothesis that the coefficient = 0 is true. If it is less than the confidence level, often 0.05, it indicates that there is a statistically significant relationship between the term and the response.|\n",
    "|\\[95.0% Conf. Interval\\]\t|The lower and upper values of the 95% confidence interval |"
   ]
  },
  {
   "cell_type": "markdown",
   "metadata": {},
   "source": [
    "<b> Third table"
   ]
  },
  {
   "cell_type": "markdown",
   "metadata": {},
   "source": [
    "|Element\t|Description|\n",
    "| :--: | :--: |\n",
    "|Skewness\t|A measure of the symmetry of the data about the mean. Normally-distributed errors should be symmetrically distributed about the mean (equal amounts above and below the line).|\n",
    "|Kurtosis\t|A measure of the shape of the distribution. Compares the amount of data close to the mean with those far away from the mean (in the tails).|\n",
    "|Omnibus\t|D’Angostino’s test. It provides a combined statistical test for the presence of skewness and kurtosis.|\n",
    "|Prob(Omnibus)|\tThe above statistic turned into a probability|\n",
    "|Jarque-Bera|\tA different test of the skewness and kurtosis|\n",
    "|Prob (JB)\t|The above statistic turned into a probability|\n",
    "|Durbin-Watson|\tA test for the presence of autocorrelation (that the errors are not independent.) Often important in time-series analysis|\n",
    "|Cond. No\t|A test for multicollinearity (if in a fit with multiple parameters, the parameters are related with each other).|"
   ]
  },
  {
   "cell_type": "code",
   "execution_count": null,
   "metadata": {},
   "outputs": [],
   "source": []
  },
  {
   "cell_type": "markdown",
   "metadata": {},
   "source": [
    "# <center> OLS with Real Datas"
   ]
  },
  {
   "cell_type": "markdown",
   "metadata": {},
   "source": [
    "### Imports"
   ]
  },
  {
   "cell_type": "code",
   "execution_count": 37,
   "metadata": {},
   "outputs": [],
   "source": [
    "import numpy as np\n",
    "import pandas as pd\n",
    "import matplotlib.pyplot as plt\n",
    "\n",
    "# pip install statsmodels\n",
    "import statsmodels.api as sm\n",
    "from statsmodels.sandbox.regression.predstd import wls_prediction_std"
   ]
  },
  {
   "cell_type": "markdown",
   "metadata": {},
   "source": [
    "<b> Load Data"
   ]
  },
  {
   "cell_type": "code",
   "execution_count": 38,
   "metadata": {},
   "outputs": [
    {
     "data": {
      "text/html": [
       "<div>\n",
       "<style scoped>\n",
       "    .dataframe tbody tr th:only-of-type {\n",
       "        vertical-align: middle;\n",
       "    }\n",
       "\n",
       "    .dataframe tbody tr th {\n",
       "        vertical-align: top;\n",
       "    }\n",
       "\n",
       "    .dataframe thead th {\n",
       "        text-align: right;\n",
       "    }\n",
       "</style>\n",
       "<table border=\"1\" class=\"dataframe\">\n",
       "  <thead>\n",
       "    <tr style=\"text-align: right;\">\n",
       "      <th></th>\n",
       "      <th>GNP.deflator</th>\n",
       "      <th>GNP</th>\n",
       "      <th>Unemployed</th>\n",
       "      <th>Armed.Forces</th>\n",
       "      <th>Population</th>\n",
       "      <th>Year</th>\n",
       "      <th>Employed</th>\n",
       "    </tr>\n",
       "  </thead>\n",
       "  <tbody>\n",
       "    <tr>\n",
       "      <th>1947</th>\n",
       "      <td>83.0</td>\n",
       "      <td>234.289</td>\n",
       "      <td>235.6</td>\n",
       "      <td>159.0</td>\n",
       "      <td>107.608</td>\n",
       "      <td>1947</td>\n",
       "      <td>60.323</td>\n",
       "    </tr>\n",
       "    <tr>\n",
       "      <th>1948</th>\n",
       "      <td>88.5</td>\n",
       "      <td>259.426</td>\n",
       "      <td>232.5</td>\n",
       "      <td>145.6</td>\n",
       "      <td>108.632</td>\n",
       "      <td>1948</td>\n",
       "      <td>61.122</td>\n",
       "    </tr>\n",
       "    <tr>\n",
       "      <th>1949</th>\n",
       "      <td>88.2</td>\n",
       "      <td>258.054</td>\n",
       "      <td>368.2</td>\n",
       "      <td>161.6</td>\n",
       "      <td>109.773</td>\n",
       "      <td>1949</td>\n",
       "      <td>60.171</td>\n",
       "    </tr>\n",
       "    <tr>\n",
       "      <th>1950</th>\n",
       "      <td>89.5</td>\n",
       "      <td>284.599</td>\n",
       "      <td>335.1</td>\n",
       "      <td>165.0</td>\n",
       "      <td>110.929</td>\n",
       "      <td>1950</td>\n",
       "      <td>61.187</td>\n",
       "    </tr>\n",
       "    <tr>\n",
       "      <th>1951</th>\n",
       "      <td>96.2</td>\n",
       "      <td>328.975</td>\n",
       "      <td>209.9</td>\n",
       "      <td>309.9</td>\n",
       "      <td>112.075</td>\n",
       "      <td>1951</td>\n",
       "      <td>63.221</td>\n",
       "    </tr>\n",
       "  </tbody>\n",
       "</table>\n",
       "</div>"
      ],
      "text/plain": [
       "      GNP.deflator      GNP  Unemployed  Armed.Forces  Population  Year  \\\n",
       "1947          83.0  234.289       235.6         159.0     107.608  1947   \n",
       "1948          88.5  259.426       232.5         145.6     108.632  1948   \n",
       "1949          88.2  258.054       368.2         161.6     109.773  1949   \n",
       "1950          89.5  284.599       335.1         165.0     110.929  1950   \n",
       "1951          96.2  328.975       209.9         309.9     112.075  1951   \n",
       "\n",
       "      Employed  \n",
       "1947    60.323  \n",
       "1948    61.122  \n",
       "1949    60.171  \n",
       "1950    61.187  \n",
       "1951    63.221  "
      ]
     },
     "execution_count": 38,
     "metadata": {},
     "output_type": "execute_result"
    }
   ],
   "source": [
    "df = pd.read_csv('http://vincentarelbundock.github.io/Rdatasets/csv/datasets/longley.csv', index_col=0) \n",
    "df.head()"
   ]
  },
  {
   "cell_type": "code",
   "execution_count": 40,
   "metadata": {},
   "outputs": [
    {
     "data": {
      "text/plain": [
       "(16, 7)"
      ]
     },
     "execution_count": 40,
     "metadata": {},
     "output_type": "execute_result"
    }
   ],
   "source": [
    "df.shape"
   ]
  },
  {
   "cell_type": "code",
   "execution_count": 41,
   "metadata": {},
   "outputs": [
    {
     "data": {
      "text/plain": [
       "1947    107.608\n",
       "1948    108.632\n",
       "1949    109.773\n",
       "1950    110.929\n",
       "1951    112.075\n",
       "1952    113.270\n",
       "1953    115.094\n",
       "1954    116.219\n",
       "1955    117.388\n",
       "1956    118.734\n",
       "1957    120.445\n",
       "1958    121.950\n",
       "1959    123.366\n",
       "1960    125.368\n",
       "1961    127.852\n",
       "1962    130.081\n",
       "Name: Population, dtype: float64"
      ]
     },
     "execution_count": 41,
     "metadata": {},
     "output_type": "execute_result"
    }
   ],
   "source": [
    "df['Population']"
   ]
  },
  {
   "cell_type": "markdown",
   "metadata": {},
   "source": [
    "<br>We will use the variable Total Derived Employment ('Employed') as our response y and Gross National Product ('GNP') as our predictor X.<br>"
   ]
  },
  {
   "cell_type": "code",
   "execution_count": 42,
   "metadata": {},
   "outputs": [
    {
     "data": {
      "text/html": [
       "<div>\n",
       "<style scoped>\n",
       "    .dataframe tbody tr th:only-of-type {\n",
       "        vertical-align: middle;\n",
       "    }\n",
       "\n",
       "    .dataframe tbody tr th {\n",
       "        vertical-align: top;\n",
       "    }\n",
       "\n",
       "    .dataframe thead th {\n",
       "        text-align: right;\n",
       "    }\n",
       "</style>\n",
       "<table border=\"1\" class=\"dataframe\">\n",
       "  <thead>\n",
       "    <tr style=\"text-align: right;\">\n",
       "      <th></th>\n",
       "      <th>const</th>\n",
       "      <th>GNP</th>\n",
       "    </tr>\n",
       "  </thead>\n",
       "  <tbody>\n",
       "    <tr>\n",
       "      <th>1947</th>\n",
       "      <td>1.0</td>\n",
       "      <td>234.289</td>\n",
       "    </tr>\n",
       "    <tr>\n",
       "      <th>1948</th>\n",
       "      <td>1.0</td>\n",
       "      <td>259.426</td>\n",
       "    </tr>\n",
       "    <tr>\n",
       "      <th>1949</th>\n",
       "      <td>1.0</td>\n",
       "      <td>258.054</td>\n",
       "    </tr>\n",
       "    <tr>\n",
       "      <th>1950</th>\n",
       "      <td>1.0</td>\n",
       "      <td>284.599</td>\n",
       "    </tr>\n",
       "    <tr>\n",
       "      <th>1951</th>\n",
       "      <td>1.0</td>\n",
       "      <td>328.975</td>\n",
       "    </tr>\n",
       "  </tbody>\n",
       "</table>\n",
       "</div>"
      ],
      "text/plain": [
       "      const      GNP\n",
       "1947    1.0  234.289\n",
       "1948    1.0  259.426\n",
       "1949    1.0  258.054\n",
       "1950    1.0  284.599\n",
       "1951    1.0  328.975"
      ]
     },
     "execution_count": 42,
     "metadata": {},
     "output_type": "execute_result"
    }
   ],
   "source": [
    "y = df['Employed']      # response\n",
    "X = df[\"GNP\"]           # predictor\n",
    "X = sm.add_constant(X)  # Adds a constant term to the predictor\n",
    "X.head()"
   ]
  },
  {
   "cell_type": "markdown",
   "metadata": {},
   "source": [
    "<b> Fit and summary:"
   ]
  },
  {
   "cell_type": "code",
   "execution_count": 43,
   "metadata": {},
   "outputs": [
    {
     "name": "stdout",
     "output_type": "stream",
     "text": [
      "                            OLS Regression Results                            \n",
      "==============================================================================\n",
      "Dep. Variable:               Employed   R-squared:                       0.967\n",
      "Model:                            OLS   Adj. R-squared:                  0.965\n",
      "Method:                 Least Squares   F-statistic:                     415.1\n",
      "Date:                Thu, 10 Jun 2021   Prob (F-statistic):           8.36e-12\n",
      "Time:                        15:35:02   Log-Likelihood:                -14.904\n",
      "No. Observations:                  16   AIC:                             33.81\n",
      "Df Residuals:                      14   BIC:                             35.35\n",
      "Df Model:                           1                                         \n",
      "Covariance Type:            nonrobust                                         \n",
      "==============================================================================\n",
      "                 coef    std err          t      P>|t|      [0.025      0.975]\n",
      "------------------------------------------------------------------------------\n",
      "const         51.8436      0.681     76.087      0.000      50.382      53.305\n",
      "GNP            0.0348      0.002     20.374      0.000       0.031       0.038\n",
      "==============================================================================\n",
      "Omnibus:                        1.925   Durbin-Watson:                   1.619\n",
      "Prob(Omnibus):                  0.382   Jarque-Bera (JB):                1.215\n",
      "Skew:                           0.664   Prob(JB):                        0.545\n",
      "Kurtosis:                       2.759   Cond. No.                     1.66e+03\n",
      "==============================================================================\n",
      "\n",
      "Notes:\n",
      "[1] Standard Errors assume that the covariance matrix of the errors is correctly specified.\n",
      "[2] The condition number is large, 1.66e+03. This might indicate that there are\n",
      "strong multicollinearity or other numerical problems.\n"
     ]
    },
    {
     "name": "stderr",
     "output_type": "stream",
     "text": [
      "C:\\Users\\Saeed Saffari\\anaconda3\\lib\\site-packages\\scipy\\stats\\stats.py:1603: UserWarning: kurtosistest only valid for n>=20 ... continuing anyway, n=16\n",
      "  warnings.warn(\"kurtosistest only valid for n>=20 ... continuing \"\n"
     ]
    }
   ],
   "source": [
    "est = sm.OLS(y, X).fit()\n",
    "print(est.summary())"
   ]
  },
  {
   "cell_type": "code",
   "execution_count": 44,
   "metadata": {},
   "outputs": [
    {
     "data": {
      "text/plain": [
       "const    51.843590\n",
       "GNP       0.034752\n",
       "dtype: float64"
      ]
     },
     "execution_count": 44,
     "metadata": {},
     "output_type": "execute_result"
    }
   ],
   "source": [
    "est.params"
   ]
  },
  {
   "cell_type": "markdown",
   "metadata": {},
   "source": [
    "<b> Plot"
   ]
  },
  {
   "cell_type": "code",
   "execution_count": 45,
   "metadata": {},
   "outputs": [],
   "source": [
    "X_prime = np.linspace(X.GNP.min(), X.GNP.max(), 100)[:, np.newaxis] \n",
    "X_prime = sm.add_constant(X_prime)"
   ]
  },
  {
   "cell_type": "code",
   "execution_count": 47,
   "metadata": {},
   "outputs": [
    {
     "data": {
      "image/png": "[encoded data removed]",
      "text/plain": [
       "<Figure size 432x288 with 1 Axes>"
      ]
     },
     "metadata": {
      "needs_background": "light"
     },
     "output_type": "display_data"
    }
   ],
   "source": [
    "y_hat = est.predict(X_prime) \n",
    "plt.scatter(X[\"GNP\"], y, alpha=1, lw= 4, label = 'Real data')\n",
    "plt.plot(X_prime[:, 1], y_hat, 'r', alpha=0.8, lw=2, label = \"Predict\") \n",
    "plt.xlabel(\"Gross National Product\", fontsize=13) \n",
    "plt.ylabel(\"Total Employment\",fontsize=13)\n",
    "plt.legend()\n",
    "plt.grid()\n",
    "plt.show()"
   ]
  },
  {
   "cell_type": "markdown",
   "metadata": {},
   "source": [
    "### Other way for OLS"
   ]
  },
  {
   "cell_type": "code",
   "execution_count": 49,
   "metadata": {},
   "outputs": [],
   "source": [
    "import statsmodels.formula.api as smf"
   ]
  },
  {
   "cell_type": "code",
   "execution_count": 50,
   "metadata": {},
   "outputs": [
    {
     "data": {
      "text/html": [
       "<div>\n",
       "<style scoped>\n",
       "    .dataframe tbody tr th:only-of-type {\n",
       "        vertical-align: middle;\n",
       "    }\n",
       "\n",
       "    .dataframe tbody tr th {\n",
       "        vertical-align: top;\n",
       "    }\n",
       "\n",
       "    .dataframe thead th {\n",
       "        text-align: right;\n",
       "    }\n",
       "</style>\n",
       "<table border=\"1\" class=\"dataframe\">\n",
       "  <thead>\n",
       "    <tr style=\"text-align: right;\">\n",
       "      <th></th>\n",
       "      <th>GNP.deflator</th>\n",
       "      <th>GNP</th>\n",
       "      <th>Unemployed</th>\n",
       "      <th>Armed.Forces</th>\n",
       "      <th>Population</th>\n",
       "      <th>Year</th>\n",
       "      <th>Employed</th>\n",
       "    </tr>\n",
       "  </thead>\n",
       "  <tbody>\n",
       "    <tr>\n",
       "      <th>1947</th>\n",
       "      <td>83.0</td>\n",
       "      <td>234.289</td>\n",
       "      <td>235.6</td>\n",
       "      <td>159.0</td>\n",
       "      <td>107.608</td>\n",
       "      <td>1947</td>\n",
       "      <td>60.323</td>\n",
       "    </tr>\n",
       "    <tr>\n",
       "      <th>1948</th>\n",
       "      <td>88.5</td>\n",
       "      <td>259.426</td>\n",
       "      <td>232.5</td>\n",
       "      <td>145.6</td>\n",
       "      <td>108.632</td>\n",
       "      <td>1948</td>\n",
       "      <td>61.122</td>\n",
       "    </tr>\n",
       "    <tr>\n",
       "      <th>1949</th>\n",
       "      <td>88.2</td>\n",
       "      <td>258.054</td>\n",
       "      <td>368.2</td>\n",
       "      <td>161.6</td>\n",
       "      <td>109.773</td>\n",
       "      <td>1949</td>\n",
       "      <td>60.171</td>\n",
       "    </tr>\n",
       "    <tr>\n",
       "      <th>1950</th>\n",
       "      <td>89.5</td>\n",
       "      <td>284.599</td>\n",
       "      <td>335.1</td>\n",
       "      <td>165.0</td>\n",
       "      <td>110.929</td>\n",
       "      <td>1950</td>\n",
       "      <td>61.187</td>\n",
       "    </tr>\n",
       "    <tr>\n",
       "      <th>1951</th>\n",
       "      <td>96.2</td>\n",
       "      <td>328.975</td>\n",
       "      <td>209.9</td>\n",
       "      <td>309.9</td>\n",
       "      <td>112.075</td>\n",
       "      <td>1951</td>\n",
       "      <td>63.221</td>\n",
       "    </tr>\n",
       "  </tbody>\n",
       "</table>\n",
       "</div>"
      ],
      "text/plain": [
       "      GNP.deflator      GNP  Unemployed  Armed.Forces  Population  Year  \\\n",
       "1947          83.0  234.289       235.6         159.0     107.608  1947   \n",
       "1948          88.5  259.426       232.5         145.6     108.632  1948   \n",
       "1949          88.2  258.054       368.2         161.6     109.773  1949   \n",
       "1950          89.5  284.599       335.1         165.0     110.929  1950   \n",
       "1951          96.2  328.975       209.9         309.9     112.075  1951   \n",
       "\n",
       "      Employed  \n",
       "1947    60.323  \n",
       "1948    61.122  \n",
       "1949    60.171  \n",
       "1950    61.187  \n",
       "1951    63.221  "
      ]
     },
     "execution_count": 50,
     "metadata": {},
     "output_type": "execute_result"
    }
   ],
   "source": [
    "df.head()"
   ]
  },
  {
   "cell_type": "code",
   "execution_count": 51,
   "metadata": {},
   "outputs": [
    {
     "name": "stdout",
     "output_type": "stream",
     "text": [
      "                            OLS Regression Results                            \n",
      "==============================================================================\n",
      "Dep. Variable:               Employed   R-squared:                       0.967\n",
      "Model:                            OLS   Adj. R-squared:                  0.965\n",
      "Method:                 Least Squares   F-statistic:                     415.1\n",
      "Date:                Thu, 10 Jun 2021   Prob (F-statistic):           8.36e-12\n",
      "Time:                        15:38:17   Log-Likelihood:                -14.904\n",
      "No. Observations:                  16   AIC:                             33.81\n",
      "Df Residuals:                      14   BIC:                             35.35\n",
      "Df Model:                           1                                         \n",
      "Covariance Type:            nonrobust                                         \n",
      "==============================================================================\n",
      "                 coef    std err          t      P>|t|      [0.025      0.975]\n",
      "------------------------------------------------------------------------------\n",
      "Intercept     51.8436      0.681     76.087      0.000      50.382      53.305\n",
      "GNP            0.0348      0.002     20.374      0.000       0.031       0.038\n",
      "==============================================================================\n",
      "Omnibus:                        1.925   Durbin-Watson:                   1.619\n",
      "Prob(Omnibus):                  0.382   Jarque-Bera (JB):                1.215\n",
      "Skew:                           0.664   Prob(JB):                        0.545\n",
      "Kurtosis:                       2.759   Cond. No.                     1.66e+03\n",
      "==============================================================================\n",
      "\n",
      "Notes:\n",
      "[1] Standard Errors assume that the covariance matrix of the errors is correctly specified.\n",
      "[2] The condition number is large, 1.66e+03. This might indicate that there are\n",
      "strong multicollinearity or other numerical problems.\n"
     ]
    },
    {
     "name": "stderr",
     "output_type": "stream",
     "text": [
      "C:\\Users\\Saeed Saffari\\anaconda3\\lib\\site-packages\\scipy\\stats\\stats.py:1603: UserWarning: kurtosistest only valid for n>=20 ... continuing anyway, n=16\n",
      "  warnings.warn(\"kurtosistest only valid for n>=20 ... continuing \"\n"
     ]
    }
   ],
   "source": [
    "est = smf.ols(formula='Employed ~ GNP', data=df).fit() \n",
    "print(est.summary())"
   ]
  },
  {
   "cell_type": "markdown",
   "metadata": {},
   "source": [
    "<b> Without Intercept vs With Intercept"
   ]
  },
  {
   "cell_type": "code",
   "execution_count": 53,
   "metadata": {},
   "outputs": [
    {
     "data": {
      "image/png": "[encoded data removed]",
      "text/plain": [
       "<Figure size 576x288 with 2 Axes>"
      ]
     },
     "metadata": {
      "needs_background": "light"
     },
     "output_type": "display_data"
    }
   ],
   "source": [
    "# Fit the no-intercept model\n",
    "est_no_int = smf.ols(formula='Employed ~ GNP - 1', data=df).fit() \n",
    "\n",
    "# We pick 100 hundred points equally spaced from the min to the max \n",
    "X_prime_1 = pd.DataFrame({'GNP': np.linspace(X.GNP.min(), X.GNP.max(), 100)})\n",
    "X_prime_1 = sm.add_constant(X_prime_1) \n",
    "\n",
    "# add constant as we did before \n",
    "y_hat_int = est.predict(X_prime_1) \n",
    "y_hat_no_int = est_no_int.predict(X_prime_1) \n",
    "fig = plt.figure(figsize=(8,4))\n",
    "\n",
    "splt = plt.subplot(121) \n",
    "splt.scatter(X.GNP, y, alpha=1)\n",
    "\n",
    "# Plot the raw data plt.ylim(30, 100) \n",
    "# Set the y-axis to be the same \n",
    "plt.xlabel(\"Gross National Product\") \n",
    "plt.ylabel(\"Total Employment\") \n",
    "plt.title(\"With intercept\")\n",
    "plt.grid()\n",
    "\n",
    "splt.plot(X_prime[:, 1], y_hat_int, 'r', alpha=0.9) # Add the regression line, colored in red \n",
    "\n",
    "\n",
    "splt = plt.subplot(122) \n",
    "splt.scatter(X.GNP, y, alpha=1) \n",
    "\n",
    "# Plot the raw data \n",
    "plt.xlabel(\"Gross National Product\") \n",
    "plt.title(\"Without intercept\") \n",
    "splt.plot(X_prime[:, 1], y_hat_no_int, 'r', alpha=0.9) # Add the regression line, colored in red\n",
    "plt.grid()\n",
    "plt.show()"
   ]
  },
  {
   "cell_type": "markdown",
   "metadata": {},
   "source": [
    "### Second Example"
   ]
  },
  {
   "cell_type": "code",
   "execution_count": 54,
   "metadata": {},
   "outputs": [],
   "source": [
    "from pandas_datareader import wb\n",
    "import pandas as pd\n",
    "import numpy as np\n",
    "import matplotlib.pyplot as plt\n",
    "import statsmodels.api as sm\n",
    "from statsmodels.sandbox.regression.predstd import wls_prediction_std"
   ]
  },
  {
   "cell_type": "code",
   "execution_count": 55,
   "metadata": {},
   "outputs": [],
   "source": [
    "# Imports service share of GDP \n",
    "impo = wb.download(indicator='NE.IMP.GNFS.ZS', country='all', start=1980, end=2019)\n",
    "impo = impo.unstack()\n",
    "impo.columns = np.arange(1980, 2020)\n",
    "impo2 = impo.T"
   ]
  },
  {
   "cell_type": "code",
   "execution_count": 56,
   "metadata": {},
   "outputs": [],
   "source": [
    "# Unemployment\n",
    "unem = wb.download(indicator='SL.UEM.TOTL.ZS', country='all', start=1980, end=2019)\n",
    "unem = unem.unstack()\n",
    "unem.columns = np.arange(1980, 2020)\n",
    "unem2 = unem.T"
   ]
  },
  {
   "cell_type": "code",
   "execution_count": 57,
   "metadata": {},
   "outputs": [
    {
     "name": "stdout",
     "output_type": "stream",
     "text": [
      "                            OLS Regression Results                            \n",
      "==============================================================================\n",
      "Dep. Variable:                   2015   R-squared:                       0.007\n",
      "Model:                            OLS   Adj. R-squared:                  0.003\n",
      "Method:                 Least Squares   F-statistic:                     1.535\n",
      "Date:                Thu, 10 Jun 2021   Prob (F-statistic):              0.217\n",
      "Time:                        15:43:02   Log-Likelihood:                -994.75\n",
      "No. Observations:                 213   AIC:                             1994.\n",
      "Df Residuals:                     211   BIC:                             2000.\n",
      "Df Model:                           1                                         \n",
      "Covariance Type:            nonrobust                                         \n",
      "==============================================================================\n",
      "                 coef    std err          t      P>|t|      [0.025      0.975]\n",
      "------------------------------------------------------------------------------\n",
      "const         41.1481      3.077     13.372      0.000      35.082      47.214\n",
      "2015           0.4159      0.336      1.239      0.217      -0.246       1.078\n",
      "==============================================================================\n",
      "Omnibus:                      146.717   Durbin-Watson:                   1.616\n",
      "Prob(Omnibus):                  0.000   Jarque-Bera (JB):             1255.180\n",
      "Skew:                           2.655   Prob(JB):                    2.76e-273\n",
      "Kurtosis:                      13.641   Cond. No.                         16.0\n",
      "==============================================================================\n",
      "\n",
      "Notes:\n",
      "[1] Standard Errors assume that the covariance matrix of the errors is correctly specified.\n"
     ]
    }
   ],
   "source": [
    "X = unem[2015]\n",
    "y = impo[2015]\n",
    "X = sm.add_constant(X)\n",
    "est = sm.OLS(y, X,missing='drop').fit()\n",
    "print(est.summary())"
   ]
  },
  {
   "cell_type": "code",
   "execution_count": 58,
   "metadata": {},
   "outputs": [],
   "source": [
    "X_prime = np.linspace(unem[2015].min(), unem[2015].max(), 100)[:, np.newaxis] \n",
    "X_prime = sm.add_constant(X_prime)"
   ]
  },
  {
   "cell_type": "code",
   "execution_count": 59,
   "metadata": {},
   "outputs": [
    {
     "data": {
      "image/png": "[encoded data removed]",
      "text/plain": [
       "<Figure size 432x288 with 1 Axes>"
      ]
     },
     "metadata": {
      "needs_background": "light"
     },
     "output_type": "display_data"
    }
   ],
   "source": [
    "y_hat = est.predict(X_prime) \n",
    "plt.scatter(unem[2015], y, alpha=1, lw= 1, label = 'Real data')\n",
    "plt.plot(X_prime[:, 1], y_hat, 'r', alpha=0.8, lw=2, label = \"Predict\") \n",
    "plt.xlabel(\"Unemployment\", fontsize=13) \n",
    "plt.ylabel(\"Imports service share of GDP\",fontsize=10)\n",
    "plt.legend()\n",
    "plt.grid()"
   ]
  },
  {
   "cell_type": "code",
   "execution_count": 60,
   "metadata": {},
   "outputs": [
    {
     "data": {
      "text/html": [
       "<div>\n",
       "<style scoped>\n",
       "    .dataframe tbody tr th:only-of-type {\n",
       "        vertical-align: middle;\n",
       "    }\n",
       "\n",
       "    .dataframe tbody tr th {\n",
       "        vertical-align: top;\n",
       "    }\n",
       "\n",
       "    .dataframe thead th {\n",
       "        text-align: right;\n",
       "    }\n",
       "</style>\n",
       "<table border=\"1\" class=\"dataframe\">\n",
       "  <thead>\n",
       "    <tr style=\"text-align: right;\">\n",
       "      <th></th>\n",
       "      <th>1980</th>\n",
       "      <th>1981</th>\n",
       "      <th>1982</th>\n",
       "      <th>1983</th>\n",
       "      <th>1984</th>\n",
       "      <th>1985</th>\n",
       "      <th>1986</th>\n",
       "      <th>1987</th>\n",
       "      <th>1988</th>\n",
       "      <th>1989</th>\n",
       "      <th>...</th>\n",
       "      <th>2010</th>\n",
       "      <th>2011</th>\n",
       "      <th>2012</th>\n",
       "      <th>2013</th>\n",
       "      <th>2014</th>\n",
       "      <th>2015</th>\n",
       "      <th>2016</th>\n",
       "      <th>2017</th>\n",
       "      <th>2018</th>\n",
       "      <th>2019</th>\n",
       "    </tr>\n",
       "    <tr>\n",
       "      <th>country</th>\n",
       "      <th></th>\n",
       "      <th></th>\n",
       "      <th></th>\n",
       "      <th></th>\n",
       "      <th></th>\n",
       "      <th></th>\n",
       "      <th></th>\n",
       "      <th></th>\n",
       "      <th></th>\n",
       "      <th></th>\n",
       "      <th></th>\n",
       "      <th></th>\n",
       "      <th></th>\n",
       "      <th></th>\n",
       "      <th></th>\n",
       "      <th></th>\n",
       "      <th></th>\n",
       "      <th></th>\n",
       "      <th></th>\n",
       "      <th></th>\n",
       "      <th></th>\n",
       "    </tr>\n",
       "  </thead>\n",
       "  <tbody>\n",
       "    <tr>\n",
       "      <th>Afghanistan</th>\n",
       "      <td>NaN</td>\n",
       "      <td>NaN</td>\n",
       "      <td>NaN</td>\n",
       "      <td>NaN</td>\n",
       "      <td>NaN</td>\n",
       "      <td>NaN</td>\n",
       "      <td>NaN</td>\n",
       "      <td>NaN</td>\n",
       "      <td>NaN</td>\n",
       "      <td>NaN</td>\n",
       "      <td>...</td>\n",
       "      <td>11.52</td>\n",
       "      <td>11.51</td>\n",
       "      <td>11.52</td>\n",
       "      <td>11.54</td>\n",
       "      <td>11.450000</td>\n",
       "      <td>11.390000</td>\n",
       "      <td>11.31</td>\n",
       "      <td>11.18</td>\n",
       "      <td>11.06</td>\n",
       "      <td>10.98</td>\n",
       "    </tr>\n",
       "    <tr>\n",
       "      <th>Albania</th>\n",
       "      <td>NaN</td>\n",
       "      <td>NaN</td>\n",
       "      <td>NaN</td>\n",
       "      <td>NaN</td>\n",
       "      <td>NaN</td>\n",
       "      <td>NaN</td>\n",
       "      <td>NaN</td>\n",
       "      <td>NaN</td>\n",
       "      <td>NaN</td>\n",
       "      <td>NaN</td>\n",
       "      <td>...</td>\n",
       "      <td>14.09</td>\n",
       "      <td>13.48</td>\n",
       "      <td>13.38</td>\n",
       "      <td>15.87</td>\n",
       "      <td>18.059999</td>\n",
       "      <td>17.190001</td>\n",
       "      <td>15.42</td>\n",
       "      <td>13.62</td>\n",
       "      <td>12.30</td>\n",
       "      <td>11.47</td>\n",
       "    </tr>\n",
       "    <tr>\n",
       "      <th>Algeria</th>\n",
       "      <td>NaN</td>\n",
       "      <td>NaN</td>\n",
       "      <td>NaN</td>\n",
       "      <td>NaN</td>\n",
       "      <td>NaN</td>\n",
       "      <td>NaN</td>\n",
       "      <td>NaN</td>\n",
       "      <td>NaN</td>\n",
       "      <td>NaN</td>\n",
       "      <td>NaN</td>\n",
       "      <td>...</td>\n",
       "      <td>9.96</td>\n",
       "      <td>9.96</td>\n",
       "      <td>10.97</td>\n",
       "      <td>9.82</td>\n",
       "      <td>10.210000</td>\n",
       "      <td>11.210000</td>\n",
       "      <td>10.20</td>\n",
       "      <td>12.00</td>\n",
       "      <td>11.89</td>\n",
       "      <td>11.81</td>\n",
       "    </tr>\n",
       "    <tr>\n",
       "      <th>American Samoa</th>\n",
       "      <td>NaN</td>\n",
       "      <td>NaN</td>\n",
       "      <td>NaN</td>\n",
       "      <td>NaN</td>\n",
       "      <td>NaN</td>\n",
       "      <td>NaN</td>\n",
       "      <td>NaN</td>\n",
       "      <td>NaN</td>\n",
       "      <td>NaN</td>\n",
       "      <td>NaN</td>\n",
       "      <td>...</td>\n",
       "      <td>NaN</td>\n",
       "      <td>NaN</td>\n",
       "      <td>NaN</td>\n",
       "      <td>NaN</td>\n",
       "      <td>NaN</td>\n",
       "      <td>NaN</td>\n",
       "      <td>NaN</td>\n",
       "      <td>NaN</td>\n",
       "      <td>NaN</td>\n",
       "      <td>NaN</td>\n",
       "    </tr>\n",
       "    <tr>\n",
       "      <th>Andorra</th>\n",
       "      <td>NaN</td>\n",
       "      <td>NaN</td>\n",
       "      <td>NaN</td>\n",
       "      <td>NaN</td>\n",
       "      <td>NaN</td>\n",
       "      <td>NaN</td>\n",
       "      <td>NaN</td>\n",
       "      <td>NaN</td>\n",
       "      <td>NaN</td>\n",
       "      <td>NaN</td>\n",
       "      <td>...</td>\n",
       "      <td>NaN</td>\n",
       "      <td>NaN</td>\n",
       "      <td>NaN</td>\n",
       "      <td>NaN</td>\n",
       "      <td>NaN</td>\n",
       "      <td>NaN</td>\n",
       "      <td>NaN</td>\n",
       "      <td>NaN</td>\n",
       "      <td>NaN</td>\n",
       "      <td>NaN</td>\n",
       "    </tr>\n",
       "  </tbody>\n",
       "</table>\n",
       "<p>5 rows × 40 columns</p>\n",
       "</div>"
      ],
      "text/plain": [
       "                1980  1981  1982  1983  1984  1985  1986  1987  1988  1989  \\\n",
       "country                                                                      \n",
       "Afghanistan      NaN   NaN   NaN   NaN   NaN   NaN   NaN   NaN   NaN   NaN   \n",
       "Albania          NaN   NaN   NaN   NaN   NaN   NaN   NaN   NaN   NaN   NaN   \n",
       "Algeria          NaN   NaN   NaN   NaN   NaN   NaN   NaN   NaN   NaN   NaN   \n",
       "American Samoa   NaN   NaN   NaN   NaN   NaN   NaN   NaN   NaN   NaN   NaN   \n",
       "Andorra          NaN   NaN   NaN   NaN   NaN   NaN   NaN   NaN   NaN   NaN   \n",
       "\n",
       "                ...   2010   2011   2012   2013       2014       2015   2016  \\\n",
       "country         ...                                                            \n",
       "Afghanistan     ...  11.52  11.51  11.52  11.54  11.450000  11.390000  11.31   \n",
       "Albania         ...  14.09  13.48  13.38  15.87  18.059999  17.190001  15.42   \n",
       "Algeria         ...   9.96   9.96  10.97   9.82  10.210000  11.210000  10.20   \n",
       "American Samoa  ...    NaN    NaN    NaN    NaN        NaN        NaN    NaN   \n",
       "Andorra         ...    NaN    NaN    NaN    NaN        NaN        NaN    NaN   \n",
       "\n",
       "                 2017   2018   2019  \n",
       "country                              \n",
       "Afghanistan     11.18  11.06  10.98  \n",
       "Albania         13.62  12.30  11.47  \n",
       "Algeria         12.00  11.89  11.81  \n",
       "American Samoa    NaN    NaN    NaN  \n",
       "Andorra           NaN    NaN    NaN  \n",
       "\n",
       "[5 rows x 40 columns]"
      ]
     },
     "execution_count": 60,
     "metadata": {},
     "output_type": "execute_result"
    }
   ],
   "source": [
    "unem.head()"
   ]
  },
  {
   "cell_type": "code",
   "execution_count": 61,
   "metadata": {},
   "outputs": [
    {
     "name": "stdout",
     "output_type": "stream",
     "text": [
      "                            OLS Regression Results                            \n",
      "==============================================================================\n",
      "Dep. Variable:                 Canada   R-squared:                       0.222\n",
      "Model:                            OLS   Adj. R-squared:                  0.194\n",
      "Method:                 Least Squares   F-statistic:                     7.724\n",
      "Date:                Thu, 10 Jun 2021   Prob (F-statistic):            0.00980\n",
      "Time:                        15:44:55   Log-Likelihood:                -69.333\n",
      "No. Observations:                  29   AIC:                             142.7\n",
      "Df Residuals:                      27   BIC:                             145.4\n",
      "Df Model:                           1                                         \n",
      "Covariance Type:            nonrobust                                         \n",
      "==============================================================================\n",
      "                 coef    std err          t      P>|t|      [0.025      0.975]\n",
      "------------------------------------------------------------------------------\n",
      "const         40.1095      2.593     15.471      0.000      34.790      45.429\n",
      "Canada        -0.9065      0.326     -2.779      0.010      -1.576      -0.237\n",
      "==============================================================================\n",
      "Omnibus:                        1.665   Durbin-Watson:                   0.219\n",
      "Prob(Omnibus):                  0.435   Jarque-Bera (JB):                1.179\n",
      "Skew:                           0.491   Prob(JB):                        0.555\n",
      "Kurtosis:                       2.900   Cond. No.                         41.1\n",
      "==============================================================================\n",
      "\n",
      "Notes:\n",
      "[1] Standard Errors assume that the covariance matrix of the errors is correctly specified.\n"
     ]
    }
   ],
   "source": [
    "X = unem.loc['Canada']\n",
    "y = impo.loc['Canada']\n",
    "X = sm.add_constant(X)\n",
    "est = sm.OLS(y, X,missing='drop').fit()\n",
    "print(est.summary())"
   ]
  },
  {
   "cell_type": "code",
   "execution_count": 62,
   "metadata": {},
   "outputs": [],
   "source": [
    "X_prime = np.linspace(unem.loc['Canada'].min(), unem.loc['Canada'].max(), 100)[:, np.newaxis] \n",
    "X_prime = sm.add_constant(X_prime)"
   ]
  },
  {
   "cell_type": "code",
   "execution_count": 63,
   "metadata": {},
   "outputs": [
    {
     "data": {
      "image/png": "[encoded data removed]",
      "text/plain": [
       "<Figure size 432x288 with 1 Axes>"
      ]
     },
     "metadata": {
      "needs_background": "light"
     },
     "output_type": "display_data"
    }
   ],
   "source": [
    "y_hat = est.predict(X_prime) \n",
    "plt.scatter(unem.loc['Canada'], y, alpha=1, lw= 1, label = 'Real data')\n",
    "plt.plot(X_prime[:, 1], y_hat, 'r', alpha=0.8, lw=2, label = \"Predict\") \n",
    "plt.xlabel(\"Unemployment\", fontsize=13) \n",
    "plt.ylabel(\"Imports service share of GDP\",fontsize=10)\n",
    "plt.legend()\n",
    "plt.grid()"
   ]
  },
  {
   "cell_type": "code",
   "execution_count": null,
   "metadata": {},
   "outputs": [],
   "source": []
  },
  {
   "cell_type": "markdown",
   "metadata": {},
   "source": [
    "### Third Example"
   ]
  },
  {
   "cell_type": "markdown",
   "metadata": {},
   "source": [
    "The following model can be used to study whether campaign expenditures affect election outcomes:<br><br>\n",
    "$$ voteA = \\beta_0 + \\beta_1 log(expendA) +   \\beta_2 log(expendB) + \\beta_3 prtystrA + u,$$<br>\n",
    "where voteA is the percentage of the vote received by Candidate A, expendA and expendB are campaign expenditures by Candidates A and B, and prtystrA is a measure of party strength for Candidate A (the percentage of the most recent presidential vote that went to A’s party).<br><br>\n",
    "(Woodridge-7th edition-ch4-p159)"
   ]
  },
  {
   "cell_type": "code",
   "execution_count": 64,
   "metadata": {},
   "outputs": [],
   "source": [
    "from pandas_datareader import wb\n",
    "import pandas as pd\n",
    "import numpy as np\n",
    "import matplotlib.pyplot as plt\n",
    "import statsmodels.api as sm\n",
    "from statsmodels.sandbox.regression.predstd import wls_prediction_std\n",
    "import statsmodels.formula.api as smf"
   ]
  },
  {
   "cell_type": "code",
   "execution_count": 65,
   "metadata": {},
   "outputs": [
    {
     "data": {
      "text/html": [
       "<div>\n",
       "<style scoped>\n",
       "    .dataframe tbody tr th:only-of-type {\n",
       "        vertical-align: middle;\n",
       "    }\n",
       "\n",
       "    .dataframe tbody tr th {\n",
       "        vertical-align: top;\n",
       "    }\n",
       "\n",
       "    .dataframe thead th {\n",
       "        text-align: right;\n",
       "    }\n",
       "</style>\n",
       "<table border=\"1\" class=\"dataframe\">\n",
       "  <thead>\n",
       "    <tr style=\"text-align: right;\">\n",
       "      <th></th>\n",
       "      <th>state</th>\n",
       "      <th>district</th>\n",
       "      <th>democA</th>\n",
       "      <th>voteA</th>\n",
       "      <th>expendA</th>\n",
       "      <th>expendB</th>\n",
       "      <th>prtystrA</th>\n",
       "      <th>lexpendA</th>\n",
       "      <th>lexpendB</th>\n",
       "      <th>shareA</th>\n",
       "      <th>newdata</th>\n",
       "    </tr>\n",
       "  </thead>\n",
       "  <tbody>\n",
       "    <tr>\n",
       "      <th>0</th>\n",
       "      <td>AL</td>\n",
       "      <td>7</td>\n",
       "      <td>1</td>\n",
       "      <td>68</td>\n",
       "      <td>328.295990</td>\n",
       "      <td>8.737001</td>\n",
       "      <td>41</td>\n",
       "      <td>5.793916</td>\n",
       "      <td>2.167567</td>\n",
       "      <td>97.407669</td>\n",
       "      <td>-3.626349</td>\n",
       "    </tr>\n",
       "    <tr>\n",
       "      <th>1</th>\n",
       "      <td>AK</td>\n",
       "      <td>1</td>\n",
       "      <td>0</td>\n",
       "      <td>62</td>\n",
       "      <td>626.377010</td>\n",
       "      <td>402.476990</td>\n",
       "      <td>60</td>\n",
       "      <td>6.439952</td>\n",
       "      <td>5.997638</td>\n",
       "      <td>60.881039</td>\n",
       "      <td>-0.442315</td>\n",
       "    </tr>\n",
       "    <tr>\n",
       "      <th>2</th>\n",
       "      <td>AZ</td>\n",
       "      <td>2</td>\n",
       "      <td>1</td>\n",
       "      <td>73</td>\n",
       "      <td>99.607002</td>\n",
       "      <td>3.065000</td>\n",
       "      <td>55</td>\n",
       "      <td>4.601233</td>\n",
       "      <td>1.120048</td>\n",
       "      <td>97.014763</td>\n",
       "      <td>-3.481185</td>\n",
       "    </tr>\n",
       "    <tr>\n",
       "      <th>3</th>\n",
       "      <td>AZ</td>\n",
       "      <td>3</td>\n",
       "      <td>0</td>\n",
       "      <td>69</td>\n",
       "      <td>319.690000</td>\n",
       "      <td>26.281000</td>\n",
       "      <td>64</td>\n",
       "      <td>5.767352</td>\n",
       "      <td>3.268846</td>\n",
       "      <td>92.403702</td>\n",
       "      <td>-2.498505</td>\n",
       "    </tr>\n",
       "    <tr>\n",
       "      <th>4</th>\n",
       "      <td>AR</td>\n",
       "      <td>3</td>\n",
       "      <td>0</td>\n",
       "      <td>75</td>\n",
       "      <td>159.220990</td>\n",
       "      <td>60.054001</td>\n",
       "      <td>66</td>\n",
       "      <td>5.070293</td>\n",
       "      <td>4.095244</td>\n",
       "      <td>72.612473</td>\n",
       "      <td>-0.975049</td>\n",
       "    </tr>\n",
       "  </tbody>\n",
       "</table>\n",
       "</div>"
      ],
      "text/plain": [
       "  state  district  democA  voteA     expendA     expendB  prtystrA  lexpendA  \\\n",
       "0    AL         7       1     68  328.295990    8.737001        41  5.793916   \n",
       "1    AK         1       0     62  626.377010  402.476990        60  6.439952   \n",
       "2    AZ         2       1     73   99.607002    3.065000        55  4.601233   \n",
       "3    AZ         3       0     69  319.690000   26.281000        64  5.767352   \n",
       "4    AR         3       0     75  159.220990   60.054001        66  5.070293   \n",
       "\n",
       "   lexpendB     shareA   newdata  \n",
       "0  2.167567  97.407669 -3.626349  \n",
       "1  5.997638  60.881039 -0.442315  \n",
       "2  1.120048  97.014763 -3.481185  \n",
       "3  3.268846  92.403702 -2.498505  \n",
       "4  4.095244  72.612473 -0.975049  "
      ]
     },
     "execution_count": 65,
     "metadata": {},
     "output_type": "execute_result"
    }
   ],
   "source": [
    "df = pd.read_csv('test_2.csv')\n",
    "df.head()"
   ]
  },
  {
   "cell_type": "code",
   "execution_count": 66,
   "metadata": {
    "scrolled": true
   },
   "outputs": [
    {
     "name": "stdout",
     "output_type": "stream",
     "text": [
      "                            OLS Regression Results                            \n",
      "==============================================================================\n",
      "Dep. Variable:                  voteA   R-squared:                       0.793\n",
      "Model:                            OLS   Adj. R-squared:                  0.789\n",
      "Method:                 Least Squares   F-statistic:                     215.2\n",
      "Date:                Thu, 10 Jun 2021   Prob (F-statistic):           1.76e-57\n",
      "Time:                        15:47:55   Log-Likelihood:                -596.86\n",
      "No. Observations:                 173   AIC:                             1202.\n",
      "Df Residuals:                     169   BIC:                             1214.\n",
      "Df Model:                           3                                         \n",
      "Covariance Type:            nonrobust                                         \n",
      "===================================================================================\n",
      "                      coef    std err          t      P>|t|      [0.025      0.975]\n",
      "-----------------------------------------------------------------------------------\n",
      "Intercept          45.0789      3.926     11.481      0.000      37.328      52.830\n",
      "np.log(expendA)     6.0833      0.382     15.919      0.000       5.329       6.838\n",
      "np.log(expendB)    -6.6154      0.379    -17.463      0.000      -7.363      -5.868\n",
      "prtystrA            0.1520      0.062      2.450      0.015       0.030       0.274\n",
      "==============================================================================\n",
      "Omnibus:                        8.900   Durbin-Watson:                   1.604\n",
      "Prob(Omnibus):                  0.012   Jarque-Bera (JB):                8.832\n",
      "Skew:                           0.493   Prob(JB):                       0.0121\n",
      "Kurtosis:                       3.505   Cond. No.                         344.\n",
      "==============================================================================\n",
      "\n",
      "Notes:\n",
      "[1] Standard Errors assume that the covariance matrix of the errors is correctly specified.\n"
     ]
    }
   ],
   "source": [
    "est = smf.ols(formula='voteA ~ np.log(expendA) + np.log(expendB) + prtystrA', data=df).fit() \n",
    "print(est.summary())"
   ]
  },
  {
   "cell_type": "code",
   "execution_count": null,
   "metadata": {},
   "outputs": [],
   "source": []
  },
  {
   "cell_type": "markdown",
   "metadata": {},
   "source": [
    "# [tylervigen.com](https://www.tylervigen.com/spurious-correlations)"
   ]
  }
 ],
 "metadata": {
  "kernelspec": {
   "display_name": "Python 3",
   "language": "python",
   "name": "python3"
  },
  "language_info": {
   "codemirror_mode": {
    "name": "ipython",
    "version": 3
   },
   "file_extension": ".py",
   "mimetype": "text/x-python",
   "name": "python",
   "nbconvert_exporter": "python",
   "pygments_lexer": "ipython3",
   "version": "3.8.5"
  }
 },
 "nbformat": 4,
 "nbformat_minor": 4
}
