{
 "cells": [
  {
   "cell_type": "markdown",
   "metadata": {},
   "source": [
    "# <center> Loop, Conditional Control and Function"
   ]
  },
  {
   "cell_type": "markdown",
   "metadata": {},
   "source": [
    "<img src = \"https://github.com/saeed-saffari/alzahra-workshop-spr2021/blob/main/lecture/PIC/Loops-in-Python.png?raw=true\" >"
   ]
  },
  {
   "cell_type": "markdown",
   "metadata": {},
   "source": [
    "# <center> Loop and Conditional Control \n",
    "## for"
   ]
  },
  {
   "cell_type": "code",
   "execution_count": 8,
   "metadata": {},
   "outputs": [
    {
     "name": "stdout",
     "output_type": "stream",
     "text": [
      "3\n",
      "5\n",
      "9\n",
      "12\n",
      "18\n"
     ]
    }
   ],
   "source": [
    "for num in [3,5,9,12,18]:\n",
    "    print(num)"
   ]
  },
  {
   "cell_type": "code",
   "execution_count": null,
   "metadata": {},
   "outputs": [],
   "source": [
    "for ... in ....:\n",
    "    ...\n",
    "    ...\n",
    "    ..."
   ]
  },
  {
   "cell_type": "code",
   "execution_count": 10,
   "metadata": {},
   "outputs": [
    {
     "name": "stdout",
     "output_type": "stream",
     "text": [
      "['saeed', 'Yalda', 'Sajjad', 'Hadise', 'Javad']\n"
     ]
    }
   ],
   "source": [
    "users = ['saeed', 'Yalda', 'Sajjad', 'Hadise', 'Javad']\n",
    "print(users)"
   ]
  },
  {
   "cell_type": "code",
   "execution_count": 11,
   "metadata": {},
   "outputs": [
    {
     "data": {
      "text/plain": [
       "'Yalda'"
      ]
     },
     "execution_count": 11,
     "metadata": {},
     "output_type": "execute_result"
    }
   ],
   "source": [
    "users[1]"
   ]
  },
  {
   "cell_type": "code",
   "execution_count": 12,
   "metadata": {},
   "outputs": [
    {
     "name": "stdout",
     "output_type": "stream",
     "text": [
      "saeed\n",
      "Yalda\n",
      "Sajjad\n",
      "Hadise\n",
      "Javad\n"
     ]
    }
   ],
   "source": [
    "for user in users:\n",
    "    print(user)"
   ]
  },
  {
   "cell_type": "code",
   "execution_count": 15,
   "metadata": {},
   "outputs": [
    {
     "name": "stdout",
     "output_type": "stream",
     "text": [
      "Hi\n",
      "saeed\n",
      "Hi\n",
      "Yalda\n",
      "Hi\n",
      "Sajjad\n",
      "Hi\n",
      "Hadise\n",
      "Hi\n",
      "Javad\n",
      "Bye\n"
     ]
    }
   ],
   "source": [
    "for user in users:\n",
    "    print('Hi')\n",
    "    print(user)\n",
    "print('Bye')"
   ]
  },
  {
   "cell_type": "code",
   "execution_count": 17,
   "metadata": {},
   "outputs": [
    {
     "name": "stdout",
     "output_type": "stream",
     "text": [
      "Hi\n",
      "Welcome, saeed!\n",
      "Hi\n",
      "Welcome, Yalda!\n",
      "Hi\n",
      "Welcome, Sajjad!\n",
      "Hi\n",
      "Welcome, Hadise!\n",
      "Hi\n",
      "Welcome, Javad!\n",
      "Welcome, We are glad to see you all\n"
     ]
    }
   ],
   "source": [
    "for user in users:\n",
    "    print('Hi')\n",
    "    print('Welcome, ' + user + '!')\n",
    "print('Welcome, We are glad to see you all')"
   ]
  },
  {
   "cell_type": "code",
   "execution_count": 20,
   "metadata": {},
   "outputs": [
    {
     "name": "stdout",
     "output_type": "stream",
     "text": [
      "4\n",
      "25\n",
      "64\n",
      "144\n",
      "2304\n"
     ]
    }
   ],
   "source": [
    "for i in [2,5,8,12,48]:\n",
    "    print(i*i)"
   ]
  },
  {
   "cell_type": "code",
   "execution_count": 22,
   "metadata": {},
   "outputs": [
    {
     "name": "stdout",
     "output_type": "stream",
     "text": [
      "P\n",
      "Y\n",
      "T\n",
      "H\n",
      "O\n",
      "N\n",
      " \n",
      "C\n",
      "O\n",
      "U\n",
      "R\n",
      "S\n",
      "E\n"
     ]
    }
   ],
   "source": [
    "for i in \"Python Course\":\n",
    "    print(i.upper())"
   ]
  },
  {
   "cell_type": "code",
   "execution_count": 29,
   "metadata": {},
   "outputs": [
    {
     "data": {
      "text/plain": [
       "[0, 1, 2, 3, 4, 5, 6, 7, 8, 9, 10]"
      ]
     },
     "execution_count": 29,
     "metadata": {},
     "output_type": "execute_result"
    }
   ],
   "source": [
    "list(range(11))"
   ]
  },
  {
   "cell_type": "code",
   "execution_count": 30,
   "metadata": {},
   "outputs": [
    {
     "name": "stdout",
     "output_type": "stream",
     "text": [
      "6\n",
      "7\n",
      "8\n",
      "9\n",
      "10\n",
      "11\n",
      "12\n",
      "13\n"
     ]
    }
   ],
   "source": [
    "for i in range(3, 11):\n",
    "    print(i+3)"
   ]
  },
  {
   "cell_type": "code",
   "execution_count": 34,
   "metadata": {},
   "outputs": [
    {
     "name": "stdout",
     "output_type": "stream",
     "text": [
      "55\n"
     ]
    }
   ],
   "source": [
    "list_sum = 0\n",
    "\n",
    "for i in range(11):\n",
    "    #print(i)\n",
    "    list_sum = i + list_sum\n",
    "    \n",
    "print(list_sum)\n"
   ]
  },
  {
   "cell_type": "code",
   "execution_count": null,
   "metadata": {},
   "outputs": [],
   "source": []
  },
  {
   "cell_type": "markdown",
   "metadata": {},
   "source": [
    "## while (pass, continue, break)"
   ]
  },
  {
   "cell_type": "markdown",
   "metadata": {},
   "source": [
    "<img src = \"https://github.com/saeed-saffari/alzahra-workshop-spr2021/blob/main/lecture/PIC/Looping.jpg?raw=true\">"
   ]
  },
  {
   "cell_type": "code",
   "execution_count": 2,
   "metadata": {},
   "outputs": [
    {
     "name": "stdout",
     "output_type": "stream",
     "text": [
      "0\n",
      "1\n",
      "2\n",
      "3\n",
      "4\n",
      "5\n",
      "6\n",
      "7\n",
      "8\n",
      "9\n"
     ]
    }
   ],
   "source": [
    "n = 0\n",
    "while n < 10:\n",
    "    print(n)\n",
    "    n = n + 1  "
   ]
  },
  {
   "cell_type": "code",
   "execution_count": 7,
   "metadata": {},
   "outputs": [
    {
     "name": "stdout",
     "output_type": "stream",
     "text": [
      "1\n",
      "0.2\n",
      "0.04\n",
      "0.008\n",
      "0.0016\n",
      "0.00032\n"
     ]
    }
   ],
   "source": [
    "x = 1\n",
    "\n",
    "while x > 10**(-4):\n",
    "    print(x)\n",
    "    x = x/5"
   ]
  },
  {
   "cell_type": "code",
   "execution_count": 6,
   "metadata": {},
   "outputs": [
    {
     "name": "stdout",
     "output_type": "stream",
     "text": [
      "False\n"
     ]
    }
   ],
   "source": [
    "print(1 < 10**(-4))"
   ]
  },
  {
   "cell_type": "code",
   "execution_count": 8,
   "metadata": {},
   "outputs": [
    {
     "name": "stdout",
     "output_type": "stream",
     "text": [
      "1\n",
      "0.2\n",
      "0.04\n",
      "0.008\n",
      "0.0016\n",
      "0.00032\n"
     ]
    }
   ],
   "source": [
    "x = 1\n",
    "\n",
    "while x > 1e-4:\n",
    "    print(x)\n",
    "    x = x/5"
   ]
  },
  {
   "cell_type": "markdown",
   "metadata": {},
   "source": [
    "## if, elif , else"
   ]
  },
  {
   "cell_type": "markdown",
   "metadata": {},
   "source": [
    "<img src = \"https://github.com/saeed-saffari/alzahra-workshop-spr2021/blob/main/lecture/PIC/if-else.jpg?raw=true\" width = \"650\">"
   ]
  },
  {
   "cell_type": "code",
   "execution_count": 12,
   "metadata": {},
   "outputs": [
    {
     "name": "stdout",
     "output_type": "stream",
     "text": [
      "Hello\n"
     ]
    }
   ],
   "source": [
    "if 3 > 2:\n",
    "    print(\"Hello\")"
   ]
  },
  {
   "cell_type": "code",
   "execution_count": 11,
   "metadata": {},
   "outputs": [
    {
     "data": {
      "text/plain": [
       "True"
      ]
     },
     "execution_count": 11,
     "metadata": {},
     "output_type": "execute_result"
    }
   ],
   "source": [
    "3 > 2"
   ]
  },
  {
   "cell_type": "code",
   "execution_count": 17,
   "metadata": {},
   "outputs": [
    {
     "name": "stdout",
     "output_type": "stream",
     "text": [
      "Enter your age: 17\n",
      "You can not vote yet\n",
      "you can will vote after 1 year(s).\n"
     ]
    }
   ],
   "source": [
    "age = int(input('Enter your age: '))\n",
    "\n",
    "if age >= 18:\n",
    "    print(\"You are old enough to vote!\")\n",
    "else:\n",
    "    print(\"You can not vote yet\")\n",
    "    print(\"you can will vote after {} year(s).\".format(18 - age))"
   ]
  },
  {
   "cell_type": "code",
   "execution_count": 20,
   "metadata": {},
   "outputs": [
    {
     "name": "stdout",
     "output_type": "stream",
     "text": [
      "Enter your age: 3\n",
      "Your cost is $0.\n"
     ]
    }
   ],
   "source": [
    "age = int(input('Enter your age: '))\n",
    "\n",
    "if age <= 4:\n",
    "    price = 0\n",
    "elif age <= 16:\n",
    "    price = 5\n",
    "else:\n",
    "    price = 10\n",
    "    \n",
    "print('Your cost is ${}.'.format(price))"
   ]
  },
  {
   "cell_type": "code",
   "execution_count": 27,
   "metadata": {},
   "outputs": [
    {
     "name": "stdout",
     "output_type": "stream",
     "text": [
      "1 is ODD number\n",
      "4 is EVEN number!\n",
      "7 is ODD number\n",
      "8 is EVEN number!\n",
      "19 is ODD number\n",
      "108 is EVEN number!\n"
     ]
    }
   ],
   "source": [
    "my_list = [1,4,7,8,19,108]\n",
    "\n",
    "for i in my_list:\n",
    "    if i % 2 == 0:\n",
    "        print(i, 'is EVEN number!')\n",
    "    else:\n",
    "        print(str(i) + ' is ODD number')"
   ]
  },
  {
   "cell_type": "code",
   "execution_count": null,
   "metadata": {},
   "outputs": [],
   "source": []
  },
  {
   "cell_type": "markdown",
   "metadata": {},
   "source": [
    "<img src = \"https://github.com/saeed-saffari/alzahra-workshop-spr2021/blob/main/lecture/PIC/whlie%20expr.png?raw=true\" width = \"400\">"
   ]
  },
  {
   "cell_type": "code",
   "execution_count": 29,
   "metadata": {},
   "outputs": [
    {
     "name": "stdout",
     "output_type": "stream",
     "text": [
      "n\n",
      "o\n",
      "h\n",
      "i\n",
      "n\n",
      "g\n"
     ]
    }
   ],
   "source": [
    "mystring = 'nothing'\n",
    "\n",
    "for letter in mystring:\n",
    "    if letter == 't':\n",
    "        continue\n",
    "    print(letter)"
   ]
  },
  {
   "cell_type": "code",
   "execution_count": 32,
   "metadata": {},
   "outputs": [
    {
     "name": "stdout",
     "output_type": "stream",
     "text": [
      "n\n",
      "o\n",
      "t\n"
     ]
    }
   ],
   "source": [
    "mystring = 'nothing'\n",
    "\n",
    "for letter in mystring:\n",
    "    if letter == 'h':\n",
    "        break\n",
    "    print(letter)"
   ]
  },
  {
   "cell_type": "code",
   "execution_count": null,
   "metadata": {},
   "outputs": [],
   "source": []
  },
  {
   "cell_type": "markdown",
   "metadata": {},
   "source": [
    "## <center> Function"
   ]
  },
  {
   "cell_type": "markdown",
   "metadata": {},
   "source": [
    "<img src = \"https://github.com/saeed-saffari/alzahra-workshop-spr2021/blob/main/lecture/PIC/python-functions.gif?raw=true\">"
   ]
  },
  {
   "cell_type": "code",
   "execution_count": null,
   "metadata": {},
   "outputs": [],
   "source": [
    "def test_1():\n",
    "    ...\n",
    "    ...\n",
    "    ...\n",
    "    return ..."
   ]
  },
  {
   "cell_type": "code",
   "execution_count": null,
   "metadata": {},
   "outputs": [],
   "source": [
    "def test_2():\n",
    "    ...\n",
    "    ...\n",
    "    ...\n",
    "    print(...)"
   ]
  },
  {
   "cell_type": "code",
   "execution_count": null,
   "metadata": {},
   "outputs": [],
   "source": [
    "test_1()\n",
    "test_2()"
   ]
  },
  {
   "cell_type": "code",
   "execution_count": null,
   "metadata": {},
   "outputs": [],
   "source": [
    "def test_3(A , K , L):\n",
    "    ...\n",
    "    ...\n",
    "    ...\n",
    "    print(...) # return ..."
   ]
  },
  {
   "cell_type": "code",
   "execution_count": null,
   "metadata": {},
   "outputs": [],
   "source": [
    "test_3(0.2, 100, 16)"
   ]
  },
  {
   "cell_type": "code",
   "execution_count": null,
   "metadata": {},
   "outputs": [],
   "source": [
    "def test_4():\n",
    "    ...\n",
    "    ...\n",
    "    ..."
   ]
  },
  {
   "cell_type": "markdown",
   "metadata": {},
   "source": [
    "## - Example"
   ]
  },
  {
   "cell_type": "code",
   "execution_count": 38,
   "metadata": {},
   "outputs": [],
   "source": [
    "def echo(i):\n",
    "    print(i)"
   ]
  },
  {
   "cell_type": "code",
   "execution_count": 33,
   "metadata": {},
   "outputs": [
    {
     "name": "stdout",
     "output_type": "stream",
     "text": [
      "Python\n"
     ]
    }
   ],
   "source": [
    "print('Python')"
   ]
  },
  {
   "cell_type": "code",
   "execution_count": 36,
   "metadata": {},
   "outputs": [
    {
     "name": "stdout",
     "output_type": "stream",
     "text": [
      "('Python 2')\n"
     ]
    }
   ],
   "source": [
    "echo('Python 2')"
   ]
  },
  {
   "cell_type": "code",
   "execution_count": 39,
   "metadata": {},
   "outputs": [
    {
     "name": "stdout",
     "output_type": "stream",
     "text": [
      "Python 3\n",
      "None\n"
     ]
    }
   ],
   "source": [
    "x = echo('Python 3')\n",
    "print(x)"
   ]
  },
  {
   "cell_type": "code",
   "execution_count": 40,
   "metadata": {},
   "outputs": [],
   "source": [
    "def mean3(x, y, z):\n",
    "    sum_ = x + y + z\n",
    "    ave = sum_ / 3\n",
    "    return ave"
   ]
  },
  {
   "cell_type": "code",
   "execution_count": 41,
   "metadata": {},
   "outputs": [
    {
     "data": {
      "text/plain": [
       "23.766666666666666"
      ]
     },
     "execution_count": 41,
     "metadata": {},
     "output_type": "execute_result"
    }
   ],
   "source": [
    "mean3(2, 4, 65.3)"
   ]
  },
  {
   "cell_type": "code",
   "execution_count": 47,
   "metadata": {},
   "outputs": [
    {
     "data": {
      "text/plain": [
       "16.0"
      ]
     },
     "execution_count": 47,
     "metadata": {},
     "output_type": "execute_result"
    }
   ],
   "source": [
    "def mean3B(x, y, z):\n",
    "    return (x+y+z) / 3\n",
    "\n",
    "mean3B(-6, 9, 45)"
   ]
  },
  {
   "cell_type": "code",
   "execution_count": 54,
   "metadata": {},
   "outputs": [
    {
     "data": {
      "text/plain": [
       "[2, 5, 8, 10]"
      ]
     },
     "execution_count": 54,
     "metadata": {},
     "output_type": "execute_result"
    }
   ],
   "source": [
    "x = [2 , 5 , 8 , 10]\n",
    "x"
   ]
  },
  {
   "cell_type": "code",
   "execution_count": 55,
   "metadata": {},
   "outputs": [
    {
     "data": {
      "text/plain": [
       "4"
      ]
     },
     "execution_count": 55,
     "metadata": {},
     "output_type": "execute_result"
    }
   ],
   "source": [
    "len(x)"
   ]
  },
  {
   "cell_type": "code",
   "execution_count": 48,
   "metadata": {},
   "outputs": [],
   "source": [
    "def pricing():\n",
    "    age = int(input('Enter your age: '))\n",
    "\n",
    "    if age <= 4:\n",
    "        price = 0\n",
    "    elif age <= 16:\n",
    "        price = 5\n",
    "    else:\n",
    "        price = 10\n",
    "        \n",
    "    print('Your cost is ${}.'.format(price))"
   ]
  },
  {
   "cell_type": "code",
   "execution_count": 49,
   "metadata": {},
   "outputs": [
    {
     "name": "stdout",
     "output_type": "stream",
     "text": [
      "Enter your age: 25\n",
      "Your cost is $10.\n"
     ]
    }
   ],
   "source": [
    "pricing()"
   ]
  },
  {
   "cell_type": "code",
   "execution_count": 52,
   "metadata": {},
   "outputs": [
    {
     "name": "stdout",
     "output_type": "stream",
     "text": [
      "Enter your name: \n",
      "Hello World\n"
     ]
    }
   ],
   "source": [
    "def hello():\n",
    "    name = input('Enter your name: ')\n",
    "    \n",
    "    if name:\n",
    "        print('Hello ' + str(name) + '!')\n",
    "    else:\n",
    "        print('Hello World')\n",
    "    return\n",
    "\n",
    "hello()"
   ]
  },
  {
   "cell_type": "code",
   "execution_count": 53,
   "metadata": {},
   "outputs": [
    {
     "name": "stdout",
     "output_type": "stream",
     "text": [
      "Enter your name: Sajjad\n",
      "Hello Sajjad!\n"
     ]
    }
   ],
   "source": [
    "hello()"
   ]
  },
  {
   "cell_type": "code",
   "execution_count": null,
   "metadata": {},
   "outputs": [],
   "source": []
  },
  {
   "cell_type": "code",
   "execution_count": null,
   "metadata": {},
   "outputs": [],
   "source": []
  }
 ],
 "metadata": {
  "kernelspec": {
   "display_name": "Python 3",
   "language": "python",
   "name": "python3"
  },
  "language_info": {
   "codemirror_mode": {
    "name": "ipython",
    "version": 3
   },
   "file_extension": ".py",
   "mimetype": "text/x-python",
   "name": "python",
   "nbconvert_exporter": "python",
   "pygments_lexer": "ipython3",
   "version": "3.8.5"
  }
 },
 "nbformat": 4,
 "nbformat_minor": 4
}
